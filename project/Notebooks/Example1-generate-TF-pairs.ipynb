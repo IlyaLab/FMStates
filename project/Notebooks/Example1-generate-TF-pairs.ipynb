{
 "cells": [
  {
   "cell_type": "markdown",
   "metadata": {},
   "source": [
    "##### Generating the transcription factor(TF) - functional module regulation by estimating the enrichment of target genes for one TF in one functional module. Before processing the following pipeline, make sure you have downloaded all essential input data  from the shared directory  https://osf.io/34xnm/?view_only=5b968aebebe14d4c97ff9d7ce4cb5070 which has been discribed in the manuscript \"Functional module states framework reveals cell states for drug and target prediction\" by Guangrong Qin et al.  \n",
    "\n",
    "####  Please also cite the following paper to acknoledge the source of TF-Target gene pairs. \n",
    "Garcia-Alonso L, Holland CH, Ibrahim MM, Turei D, Saez-Rodriguez J. Benchmark and integration of resources for the estimation of human transcription factor activities [published correction appears in Genome Res. 2021 Apr;31(4):745]. Genome Res. 2019;29(8):1363-1375.\n",
    "\n",
    "#### The example gene expression data for the MCF7 cell line was from L1000 platform, and only a section of purterbation measured in the CTRP2 project is used. To use it, please cite the following papers.\n",
    "Subramanian A, Narayan R, Corsello SM, et al. A Next Generation Connectivity Map: L1000 Platform and the First 1,000,000 Profiles. Cell. 2017;171(6):1437-1452.e17. doi:10.1016/j.cell.2017.10.049\n",
    "\n",
    "Rees MG, Seashore-Ludlow B, Cheah JH, et al. Correlating chemical sensitivity and basal gene expression reveals mechanism of action. Nat Chem Biol. 2016;12(2):109-116. doi:10.1038/nchembio.1986\n",
    "\n",
    "#### Please cite the following article(s) when using KEGG.\n",
    "Kanehisa, M. and Goto, S.; KEGG: Kyoto Encyclopedia of Genes and Genomes. Nucleic Acids Res. 28, 27-30 (2000). \n",
    "\n",
    "Kanehisa, M; Toward understanding the origin and evolution of cellular organisms. Protein Sci. 28, 1947-1951 (2019) \n",
    "\n",
    "Kanehisa, M., Furumichi, M., Sato, Y., Ishiguro-Watanabe, M., and Tanabe, M.; KEGG: integrating viruses and cellular organisms. Nucleic Acids Res. 49, D545-D551 (2021). "
   ]
  },
  {
   "cell_type": "code",
   "execution_count": null,
   "metadata": {},
   "outputs": [],
   "source": [
    "import os\n",
    "import sys\n",
    "import pandas as pd\n",
    "import numpy as np\n",
    "import scipy \n",
    "import scipy.stats as ss\n",
    "import statsmodels\n",
    "from statsmodels import stats\n",
    "from statsmodels.stats import multitest\n",
    "sys.path.append('../Script/')\n",
    "import FM_States\n",
    "import FM_selection\n",
    "import TF\n",
    "\n",
    "ROOT_DIR = os.path.abspath(\"../\")"
   ]
  },
  {
   "cell_type": "markdown",
   "metadata": {},
   "source": [
    "##### Loading the gene expression matrix and select the functional modules. The functional modules are from the KEGG pathways.  "
   ]
  },
  {
   "cell_type": "code",
   "execution_count": null,
   "metadata": {},
   "outputs": [],
   "source": [
    "para_in = {\n",
    "    'output_dir': ROOT_DIR+\"/Sample_output/TF_pairs/\",\n",
    "    'input_expr_file': os.path.join(ROOT_DIR, \"Sample_input/Example1/Sample1_data_MCF7_drugs_CTRP2.csv\"),\n",
    "    'out_dir': ROOT_DIR+\"/Sample_output/Sample1\",\n",
    "    'sele_modules': ['Translation',\n",
    "         'Nucleotide metabolism',\n",
    "         'Signal transduction',\n",
    "         'Amino acid metabolism',\n",
    "         'Folding sorting and degradation',\n",
    "         'Replication and repair',\n",
    "         'Carbohydrate metabolism',\n",
    "         'Membrane transport',\n",
    "         'Cellular community - eukaryotes',\n",
    "         'Lipid metabolism',\n",
    "         'Metabolism of other amino acids',\n",
    "         'Transcription',\n",
    "         'Xenobiotics biodegradation and metabolism',\n",
    "         'Signaling molecules and interaction',\n",
    "         'Energy metabolism',\n",
    "         'Transport and catabolism',\n",
    "         'Glycan biosynthesis and metabolism',\n",
    "         'Metabolism of cofactors and vitamins',\n",
    "         'Cell motility',\n",
    "         'Cell cycle', \n",
    "         'Apoptosis', \n",
    "         'Cellular senescence', \n",
    "         'p53 signaling pathway']\n",
    "}"
   ]
  },
  {
   "cell_type": "code",
   "execution_count": null,
   "metadata": {},
   "outputs": [],
   "source": [
    "## generate a output directory\n",
    "\n",
    "output_dir = para_in['output_dir']\n",
    "\n",
    "if os.path.exists(output_dir) == False:\n",
    "    try:\n",
    "        os.makedirs(output_dir)\n",
    "    except OSError:\n",
    "        print (\"Creation of the directory %s failed\" % output_dir)\n",
    "    else:\n",
    "        print (\"Successfully created the directory %s \" % output_dir)\n",
    "else:\n",
    "    print (\"INfO:  %s already exists!\" % output_dir)"
   ]
  },
  {
   "cell_type": "markdown",
   "metadata": {},
   "source": [
    "##### 1) Load genes from the selected fucntional modules from KEGG pathways; 2) Load the gene expression matrix 3) Get the TF-module pairs by estimating the enrichment of target genes for one TF in one funtional module.\n"
   ]
  },
  {
   "cell_type": "code",
   "execution_count": null,
   "metadata": {},
   "outputs": [],
   "source": [
    "#Load the fucntional modules from KEGG pathways\n",
    "File_FM = os.path.join(ROOT_DIR,\"Dataset/Sample_FM.csv\") #Users can also define their own modules\n",
    "dic_module,  KEGG_modules = FM_States.load_function_modules(File_FM)\n",
    "\n",
    "module_selected_gmt = KEGG_modules.loc[KEGG_modules['name'].isin(para_in['sele_modules']) ]\n",
    "\n",
    "#Load the gene expression matrix\n",
    "data_matrix_MCF7_CTRP2 = pd.read_csv(para_in['input_expr_file'], index_col = 'Unnamed: 0')\n",
    "\n",
    "#Get the TF-module pairs by estimating the enrichment of target genes for one TF in one funtional module. \n",
    "#Before running this step, please make sure the 'database.csv' is in the directory of \"project/Dataset/database.csv\"\n",
    "#Here database.csv equal to https://genome.cshlp.org/content/suppl/2021/03/02/gr.240663.118.DC2/Revised_Supplemental_Table_S3.csv\n",
    "TF_pairs = TF.get_tfpairs_for_select_pathways(data_matrix_MCF7_CTRP2,para_in['sele_modules'],dic_module) \n"
   ]
  },
  {
   "cell_type": "code",
   "execution_count": null,
   "metadata": {},
   "outputs": [],
   "source": [
    "TF_pairs.to_csv(para_in['output_dir'] +\"/TF_pairs.csv\")"
   ]
  },
  {
   "cell_type": "markdown",
   "metadata": {},
   "source": [
    "#### The result files will be used in Example1-generate-FM-matrix.ipynb"
   ]
  }
 ],
 "metadata": {
  "kernelspec": {
   "display_name": "Python 3 (ipykernel)",
   "language": "python",
   "name": "python3"
  },
  "language_info": {
   "codemirror_mode": {
    "name": "ipython",
    "version": 3
   },
   "file_extension": ".py",
   "mimetype": "text/x-python",
   "name": "python",
   "nbconvert_exporter": "python",
   "pygments_lexer": "ipython3",
   "version": "3.9.7"
  }
 },
 "nbformat": 4,
 "nbformat_minor": 2
}
