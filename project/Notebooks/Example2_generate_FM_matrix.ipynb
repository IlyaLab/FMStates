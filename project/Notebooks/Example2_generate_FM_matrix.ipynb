{
 "cells": [
  {
   "cell_type": "markdown",
   "metadata": {},
   "source": [
    "#### This jupyter notebook is used to generate functional module factors for transcriptome of MCF7 after shRNA knock down. Data are from CMap. "
   ]
  },
  {
   "cell_type": "code",
   "execution_count": 1,
   "metadata": {},
   "outputs": [],
   "source": [
    "import os\n",
    "import sys\n",
    "import pandas as pd\n",
    "import numpy as np\n",
    "import matplotlib.pyplot as plt\n",
    "import seaborn as sns\n",
    "import rpy2.robjects as ro\n",
    "import rpy2.robjects.numpy2ri\n",
    "rpy2.robjects.numpy2ri.activate()\n",
    "import scipy \n",
    "import scipy.stats as ss\n",
    "import statsmodels\n",
    "from statsmodels import stats\n",
    "from statsmodels.stats import multitest\n",
    "sys.path.append('../Script/')\n",
    "import FM_States\n",
    "import FM_selection\n",
    "import TF\n",
    "import rpy2\n",
    "from rpy2.robjects.packages import importr\n",
    "\n",
    "base = importr('base')\n",
    "CC = importr('ConsensusClusterPlus')\n",
    "pheatmap = importr('pheatmap')\n",
    "bezier = importr('bezier')\n",
    "\n",
    "ROOT_DIR = os.path.abspath(\"../\")"
   ]
  },
  {
   "cell_type": "code",
   "execution_count": 2,
   "metadata": {},
   "outputs": [],
   "source": [
    "#dic_module, KEGG_level2, KEGG_level3, KEGG_modules = FM_selection.load_function_modules(\"KEGG\")\n",
    "File_FM = os.path.join(ROOT_DIR,\"Dataset/Sample_FM.csv\")\n",
    "dic_module,  KEGG_modules = FM_States.load_function_modules(File_FM)\n"
   ]
  },
  {
   "cell_type": "code",
   "execution_count": 3,
   "metadata": {},
   "outputs": [],
   "source": [
    "para = {\n",
    "    'output_dir': ROOT_DIR+\"/Sample_output/Example2/\",\n",
    "    'input_expr_file': os.path.join(ROOT_DIR, \"Sample_input/Example2/sh_MCF7_96h.csv\"),\n",
    "    'output_fmf_file':ROOT_DIR+\"/Sample_output/Example2/matrix_factor_sh_mcf7.csv\",\n",
    "    'sele_modules': ['Translation',\n",
    "         'Nucleotide metabolism',\n",
    "         'Signal transduction',\n",
    "         'Amino acid metabolism',\n",
    "         'Folding sorting and degradation',\n",
    "         'Replication and repair',\n",
    "         'Carbohydrate metabolism',\n",
    "         'Membrane transport',\n",
    "         'Cellular community - eukaryotes',\n",
    "         'Lipid metabolism',\n",
    "         'Metabolism of other amino acids',\n",
    "         'Transcription',\n",
    "         'Xenobiotics biodegradation and metabolism',\n",
    "         'Signaling molecules and interaction',\n",
    "         'Energy metabolism',\n",
    "         'Transport and catabolism',\n",
    "         'Glycan biosynthesis and metabolism',\n",
    "         'Metabolism of cofactors and vitamins',\n",
    "         'Cell motility',\n",
    "         'Cell cycle', \n",
    "         'Apoptosis', \n",
    "         'Cellular senescence', \n",
    "         'p53 signaling pathway']\n",
    "}"
   ]
  },
  {
   "cell_type": "code",
   "execution_count": 4,
   "metadata": {},
   "outputs": [
    {
     "name": "stdout",
     "output_type": "stream",
     "text": [
      "/project/Sample_output/Example2/ already exists. Creation of the directory failed\n"
     ]
    }
   ],
   "source": [
    "## generate a output directory\n",
    "output_dir = para['output_dir']\n",
    "try:\n",
    "    os.mkdir(output_dir)\n",
    "except OSError:\n",
    "    print (\"%s already exists. Creation of the directory failed\" % output_dir)\n",
    "else:\n",
    "    print (\"Successfully created the directory %s \" % output_dir)\n",
    "    "
   ]
  },
  {
   "cell_type": "code",
   "execution_count": 5,
   "metadata": {},
   "outputs": [],
   "source": [
    "dic_module, KEGG_level2, KEGG_level3, KEGG_modules = FM_selection.load_function_modules(\"KEGG\")\n",
    "module_selected_gmt = KEGG_modules.loc[KEGG_modules['name'].isin(para['sele_modules']) ]\n",
    "\n",
    "TF_pairs = pd.read_csv(ROOT_DIR+\"/Sample_output/Example1/TF_pairs.csv\")\n",
    "\n",
    "data_matrix_MCF7_sh = pd.read_csv(para['input_expr_file'], index_col = 'Unnamed: 0')"
   ]
  },
  {
   "cell_type": "code",
   "execution_count": 6,
   "metadata": {},
   "outputs": [],
   "source": [
    "import datetime\n",
    "time_start = datetime.datetime.now()"
   ]
  },
  {
   "cell_type": "code",
   "execution_count": 7,
   "metadata": {},
   "outputs": [
    {
     "name": "stdout",
     "output_type": "stream",
     "text": [
      "0\n",
      "1\n",
      "2\n",
      "3\n",
      "4\n",
      "5\n",
      "6\n",
      "7\n",
      "8\n",
      "9\n",
      "10\n",
      "11\n",
      "12\n",
      "13\n"
     ]
    }
   ],
   "source": [
    "matrix_factor = FM_States.generate_factor(data_matrix_MCF7_sh, \n",
    "                                          para['sele_modules'],\n",
    "                                          module_selected_gmt, \n",
    "                                          TF_pairs, \n",
    "                                          UP = True, \n",
    "                                          DOWN = True, \n",
    "                                          ssGSEA = True, \n",
    "                                          TF = True, \n",
    "                                          absolute = False)\n",
    "#"
   ]
  },
  {
   "cell_type": "code",
   "execution_count": 8,
   "metadata": {},
   "outputs": [],
   "source": [
    "time_end = datetime.datetime.now()"
   ]
  },
  {
   "cell_type": "code",
   "execution_count": 9,
   "metadata": {},
   "outputs": [
    {
     "name": "stdout",
     "output_type": "stream",
     "text": [
      "4:03:03.770265\n"
     ]
    }
   ],
   "source": [
    "time_cost = time_end - time_start\n",
    "print(time_cost)"
   ]
  },
  {
   "cell_type": "code",
   "execution_count": 11,
   "metadata": {},
   "outputs": [],
   "source": [
    "matrix_factor.to_csv(para['output_dir'] +\"/matrix_factor_sh_mcf7.csv\")\n"
   ]
  },
  {
   "cell_type": "markdown",
   "metadata": {},
   "source": [
    "#### The results can be used to predict targetable vulnerability in the Example2_KNN_ALL.ipynb"
   ]
  }
 ],
 "metadata": {
  "kernelspec": {
   "display_name": "Python 3",
   "language": "python",
   "name": "python3"
  },
  "language_info": {
   "codemirror_mode": {
    "name": "ipython",
    "version": 3
   },
   "file_extension": ".py",
   "mimetype": "text/x-python",
   "name": "python",
   "nbconvert_exporter": "python",
   "pygments_lexer": "ipython3",
   "version": "3.7.3"
  }
 },
 "nbformat": 4,
 "nbformat_minor": 2
}
