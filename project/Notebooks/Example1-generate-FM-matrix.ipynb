{
 "cells": [
  {
   "cell_type": "markdown",
   "metadata": {},
   "source": [
    "##### About this notebook: Generating functional module factors for a given gene expression matrix, using the selected functional modules. In this example, we used the gene expression profile of MCF7 with or without drug treatment, and generate FM-factor matrix for these two groups. Data are from the Connectivity Map (doi: 10.1016/j.cell.2017.10.049). For the gene expression profiles of MCF7 with drug treatment, only the samples with drug sensitivity measured in the CTRP project(doi: 10.1038/nchembio.1986) are used. The transcription factor and functional module pairs were from the results of Example1-generate-TF-pairs.ipynb.  Before processing the following pipeline, make sure you have downloaded all essential input data  from the shared directory  https://osf.io/34xnm/?view_only=5b968aebebe14d4c97ff9d7ce4cb5070 which has been discribed in the manuscript \"Functional module states framework reveals cell states for drug and target prediction\" by Guangrong Qin et al.  "
   ]
  },
  {
   "cell_type": "code",
   "execution_count": 1,
   "metadata": {},
   "outputs": [],
   "source": [
    "import os\n",
    "import sys\n",
    "import pandas as pd\n",
    "import numpy as np\n",
    "import matplotlib.pyplot as plt\n",
    "import seaborn as sns\n",
    "import rpy2.robjects as ro\n",
    "import rpy2.robjects.numpy2ri\n",
    "rpy2.robjects.numpy2ri.activate()\n",
    "import scipy \n",
    "import scipy.stats as ss\n",
    "import statsmodels\n",
    "from statsmodels import stats\n",
    "from statsmodels.stats import multitest\n",
    "sys.path.append('../Script/')\n",
    "import FM_States\n",
    "import FM_selection\n",
    "import TF\n",
    "\n",
    "ROOT_DIR = os.path.abspath(\"../\")"
   ]
  },
  {
   "cell_type": "markdown",
   "metadata": {},
   "source": [
    "##### Load the parameters"
   ]
  },
  {
   "cell_type": "code",
   "execution_count": 2,
   "metadata": {},
   "outputs": [],
   "source": [
    "para_in = {\n",
    "    'input_TF': ROOT_DIR+\"/Sample_output/TF_pairs/TF_pairs.csv\",     # The TF_pairs are from the results of Example1-generate-TF-pairs.ipynb; \n",
    "    'output_dir': ROOT_DIR+\"/Sample_output/Example1/\",\n",
    "    'input_expr_file': os.path.join(ROOT_DIR, \"Sample_input/Example1/Sample1_data_MCF7_drugs_CTRP2.csv\"),\n",
    "    'input_ctrl_file': os.path.join(ROOT_DIR, \"Sample_input/Example1/ctl_MCF7_24h.csv\"),\n",
    "    'Label_UP': True,                    # Whether to calculate the up regulation strength or not, \"True\" for yes, and \"False\" for no.\n",
    "    'Label_DOWN':True,                   # Whether to calculate the down regulation strength or not, \"True\" for yes, and \"False\" for no.\n",
    "    'Label_ssGSEA': True,                # Whether to calculate the ssGSEA enrichment score or not, \"True\" for yes, and \"False\" for no.\n",
    "    'Label_TF':True,                     # Whether to calculate the transcription regulation strength or not , \"True\" for yes, and \"False\" for no.\n",
    "    'isAbsoluteValues':False,            # Whether the gene express matrix is the absolute RPKM or FPKM values or z-scored transformed across samples, \"False\" for z-score transformed values and \"True\" for FPKM or RPKM values.  \n",
    "    'sele_modules': ['Translation',      # Selection of functional modules\n",
    "         'Nucleotide metabolism',\n",
    "         'Signal transduction',\n",
    "         'Amino acid metabolism',\n",
    "         'Folding sorting and degradation',\n",
    "         'Replication and repair',\n",
    "         'Carbohydrate metabolism',\n",
    "         'Membrane transport',\n",
    "         'Cellular community - eukaryotes',\n",
    "         'Lipid metabolism',\n",
    "         'Metabolism of other amino acids',\n",
    "         'Transcription',\n",
    "         'Xenobiotics biodegradation and metabolism',\n",
    "         'Signaling molecules and interaction',\n",
    "         'Energy metabolism',\n",
    "         'Transport and catabolism',\n",
    "         'Glycan biosynthesis and metabolism',\n",
    "         'Metabolism of cofactors and vitamins',\n",
    "         'Cell motility',\n",
    "         'Cell cycle', \n",
    "         'Apoptosis', \n",
    "         'Cellular senescence', \n",
    "         'p53 signaling pathway']\n",
    "}"
   ]
  },
  {
   "cell_type": "code",
   "execution_count": 3,
   "metadata": {},
   "outputs": [],
   "source": [
    "para_out = {'output_fmf_file':para_in['output_dir'] +\"/matrix_factor_mcf7.csv\",\n",
    "            'output_fmf_ctrl_file': para_in['output_dir'] + \"/ctrl_factor_mcf7.csv\"\n",
    "           }"
   ]
  },
  {
   "cell_type": "code",
   "execution_count": 4,
   "metadata": {},
   "outputs": [
    {
     "name": "stdout",
     "output_type": "stream",
     "text": [
      "INfO:  /project/Sample_output/Example1/ already exists!\n"
     ]
    }
   ],
   "source": [
    "## generate a output directory\n",
    "output_dir = para_in['output_dir']\n",
    "\n",
    "if os.path.exists(output_dir) == False:\n",
    "    try:\n",
    "        os.mkdir(output_dir)\n",
    "    except OSError:\n",
    "        print (\"Creation of the directory %s failed\" % output_dir)\n",
    "    else:\n",
    "        print (\"Successfully created the directory %s \" % output_dir)\n",
    "else:\n",
    "    print (\"INfO:  %s already exists!\" % output_dir)\n",
    "    "
   ]
  },
  {
   "cell_type": "markdown",
   "metadata": {},
   "source": [
    "##### Calculate the functional module factors for the gene expression matrix. The gene expression matrix here is the gene expression profiles of MCF7 24 hours after drug treatment. \n"
   ]
  },
  {
   "cell_type": "code",
   "execution_count": 5,
   "metadata": {},
   "outputs": [
    {
     "name": "stdout",
     "output_type": "stream",
     "text": [
      "0\n",
      "1\n"
     ]
    }
   ],
   "source": [
    "#1) Load genes from the selected fucntional modules from KEGG pathways; \n",
    "#dic_module, KEGG_level2, KEGG_level3, KEGG_modules = FM_selection.load_function_modules(\"KEGG\")\n",
    "File_FM = os.path.join(ROOT_DIR,\"Dataset/Sample_FM.csv\")\n",
    "dic_module,  KEGG_modules = FM_States.load_function_modules(File_FM)\n",
    "\n",
    "module_selected_gmt = KEGG_modules.loc[KEGG_modules['name'].isin(para_in['sele_modules']) ]\n",
    "\n",
    "#2) Load the gene expression matrix \n",
    "data_matrix_MCF7_CTRP2 = pd.read_csv(para_in['input_expr_file'], index_col = 'Unnamed: 0')\n",
    "\n",
    "#3) Load the TF-module pairs as estimated using the Example1-generate-TF-pairs.ipynb\n",
    "TF_pairs = pd.read_csv(para_in['input_TF'], index_col = 'Unnamed: 0')\n",
    "\n",
    "#4) Calculate the functional module factors for the gene expression matrix.\n",
    "matrix_factor = FM_States.generate_factor(data_matrix_MCF7_CTRP2, para_in['sele_modules'], module_selected_gmt, TF_pairs, UP = para_in['Label_UP'], DOWN = para_in['Label_DOWN'], ssGSEA = para_in['Label_ssGSEA'], TF = para_in['Label_TF'], absolute = para_in['isAbsoluteValues'])\n",
    "\n",
    "matrix_factor.to_csv(para_out['output_fmf_file'])"
   ]
  },
  {
   "cell_type": "markdown",
   "metadata": {},
   "source": [
    "##### Calculate the functional module factors for the gene expression matrix of the control data. The control data are the transcription profiles for MCF7 after treatment of H20 or DSMO."
   ]
  },
  {
   "cell_type": "code",
   "execution_count": null,
   "metadata": {},
   "outputs": [],
   "source": [
    "ctrl = pd.read_csv(para_in['input_ctrl_file'], index_col = 'Unnamed: 0')\n",
    "ctrl_factor = FM_States.generate_factor(ctrl, para_in['sele_modules'], module_selected_gmt, TF_pairs,UP = para_in['Label_UP'], DOWN = para_in['Label_DOWN'], ssGSEA = para_in['Label_ssGSEA'], TF = para_in['Label_TF'], absolute = para_in['isAbsoluteValues'])\n",
    "ctrl_factor.to_csv(para_out['output_fmf_ctrl_file'])"
   ]
  },
  {
   "cell_type": "markdown",
   "metadata": {},
   "source": [
    "#### The result files will be used in Example1-comparing-clustering-annotation.ipynb for further clustering and annotation."
   ]
  }
 ],
 "metadata": {
  "kernelspec": {
   "display_name": "Python 3",
   "language": "python",
   "name": "python3"
  },
  "language_info": {
   "codemirror_mode": {
    "name": "ipython",
    "version": 3
   },
   "file_extension": ".py",
   "mimetype": "text/x-python",
   "name": "python",
   "nbconvert_exporter": "python",
   "pygments_lexer": "ipython3",
   "version": "3.7.3"
  }
 },
 "nbformat": 4,
 "nbformat_minor": 2
}
