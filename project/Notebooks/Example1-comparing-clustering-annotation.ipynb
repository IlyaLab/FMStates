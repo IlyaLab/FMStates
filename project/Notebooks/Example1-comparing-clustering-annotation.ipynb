{
 "cells": [
  {
   "cell_type": "markdown",
   "metadata": {},
   "source": [
    "#### About this notebook:  This jupyter notebook is used to 1) select the FM-factors which show difference between the drug treated group and non-drug treated group,  2) cluster the FM-factor matrix into different states, and 3) annotate each state using the FM-factors. The input files are from the results of Example1-generate-FM-matrix.ipynb."
   ]
  },
  {
   "cell_type": "markdown",
   "metadata": {},
   "source": [
    "#### Load libraries"
   ]
  },
  {
   "cell_type": "code",
   "execution_count": null,
   "metadata": {},
   "outputs": [],
   "source": [
    "import os\n",
    "import sys\n",
    "import pandas as pd\n",
    "import numpy as np\n",
    "import matplotlib.pyplot as plt\n",
    "import seaborn as sns\n",
    "import rpy2.robjects as ro\n",
    "import rpy2.robjects.numpy2ri\n",
    "rpy2.robjects.numpy2ri.activate()\n",
    "import scipy \n",
    "import scipy.stats as ss\n",
    "import statsmodels\n",
    "from statsmodels import stats\n",
    "from statsmodels.stats import multitest\n",
    "sys.path.append('../Script/')\n",
    "import FM_States\n",
    "import FM_selection\n",
    "import TF\n",
    "import rpy2\n",
    "from rpy2.robjects.packages import importr\n",
    "\n",
    "base = importr('base')\n",
    "CC = importr('ConsensusClusterPlus')\n",
    "pheatmap = importr('pheatmap')\n",
    "ROOT_DIR = os.path.abspath(\"../\")"
   ]
  },
  {
   "cell_type": "markdown",
   "metadata": {},
   "source": [
    "#### Load parameters: Load FM-factors with drug treatment and FM-factors without drug treatment"
   ]
  },
  {
   "cell_type": "code",
   "execution_count": null,
   "metadata": {},
   "outputs": [],
   "source": [
    "para_in = {\n",
    "    'input_FM_matrix_file': os.path.join(ROOT_DIR, \"Sample_output/Example1/matrix_factor_mcf7.csv\"),\n",
    "    \"input_FM_matrix_file_comp\": os.path.join(ROOT_DIR, \"Sample_output/Example1/ctrl_factor_mcf7.csv\"),\n",
    "    'out_dir': ROOT_DIR+\"/Sample_output/Example1/\",\n",
    "}"
   ]
  },
  {
   "cell_type": "code",
   "execution_count": null,
   "metadata": {},
   "outputs": [],
   "source": [
    "ctrl_factor = pd.read_csv(para_in['input_FM_matrix_file_comp'],  header=0,index_col = 'Unnamed: 0')\n",
    "matrix_factor = pd.read_csv(para_in['input_FM_matrix_file'],  header=0,index_col = 'Unnamed: 0')"
   ]
  },
  {
   "cell_type": "markdown",
   "metadata": {},
   "source": [
    "\n",
    "#### Select the FM-factors which show difference between the drug treated group and non-drug treated group"
   ]
  },
  {
   "cell_type": "code",
   "execution_count": null,
   "metadata": {},
   "outputs": [],
   "source": [
    "Diff_factors = FM_States.Diff_comp(ctrl_factor, matrix_factor)\n",
    "\n",
    "B = Diff_factors.values\n",
    "nr,nc = B.shape\n",
    "factors = Diff_factors.index.values\n",
    "columns = Diff_factors.columns.values\n",
    "#result_matrix = ro.r.matrix(B, nrow=nr, ncol=nc, dimnames = [ Diff_factors.index.values,Diff_factors.columns.values])\n",
    "#result_matrix = ro.r.matrix(B, nrow=nr, ncol=nc, dimnames = list( Diff_factors.index.values, Diff_factors.columns.values))\n",
    "\n",
    "out_dir = para_in['out_dir']\n",
    "%load_ext rpy2.ipython\n",
    "\n"
   ]
  },
  {
   "cell_type": "code",
   "execution_count": null,
   "metadata": {},
   "outputs": [],
   "source": [
    "%%R -i B,nr,nc,factors,columns,out_dir  -o select_modules -w 5 -h 5 --units in -r 300\n",
    "\n",
    "plt_sizeeffect <- function(B,nr,nc,factors,columns, se, fdr){\n",
    "    result_matrix = (matrix(B,nr,nc,dimnames=list(c(factors),c(columns)) ))\n",
    "    \n",
    "    up = result_matrix[which(result_matrix[,'SizeEffect'] > se & (result_matrix[,'-log10(FDR)']) > fdr),c('SizeEffect',\"-log10(FDR)\")]\n",
    "    down = result_matrix[which(result_matrix[,'SizeEffect'] < -1 * se & (result_matrix[,'-log10(FDR)']) > fdr),c('SizeEffect',\"-log10(FDR)\")]\n",
    "    select_modules = c(rownames(up), rownames(down))\n",
    "    select_matrix = rbind(up,down)\n",
    "    rownames(select_matrix) = select_modules\n",
    "    write.csv(select_matrix, file = paste(out_dir,\"select_modules.csv\",sep = ''))\n",
    "\n",
    "\n",
    "\n",
    "    pdf(paste(out_dir,\"Fig1_sizeEffect_label.pdf\",sep = ''),width = 6, height = 6)\n",
    "    plot(result_matrix[,c('SizeEffect',\"-log10(FDR)\")])\n",
    "    points(down, xlim = c(-12,15), pch = 20, col = \"blue\")\n",
    "    points(up, xlim = c(-12,15), pch = 20, col = \"red\")\n",
    "    text(down[,1],down[,2],rownames(down),col = \"blue\",pos = 1,cex = 0.3)\n",
    "    text(up[,1],up[,2],rownames(up),col = \"red\",pos = 1,cex = 0.3)\n",
    "    abline(h = fdr, col = \"gray60\",lty=2)\n",
    "    abline(v = se, col = \"gray60\",lty=2)\n",
    "    abline(v = -1 * se,col = \"gray60\",lty=2)\n",
    "    dev.off()\n",
    "\n",
    "\n",
    "    pdf(paste(out_dir,\"Fig1_sizeEffect_nolabel.pdf\",sep = ''),width = 6, height = 6)\n",
    "    plot(result_matrix[,c('SizeEffect',\"-log10(FDR)\")])\n",
    "    points(down, xlim = c(-12,15), pch = 20, col = \"blue\")\n",
    "    points(up, xlim = c(-12,15), pch = 20, col = \"red\")\n",
    "    abline(h = fdr, col = \"gray60\",lty=2)\n",
    "    abline(v = se, col = \"gray60\",lty=2)\n",
    "    abline(v = -1 * se,col = \"gray60\",lty=2)\n",
    "    dev.off()\n",
    "    return(select_modules)\n",
    "}\n",
    "\n",
    "\n",
    "select_modules = plt_sizeeffect(B,nr,nc,factors,columns, 0.2, 6) ##The selection of P value and effect size might be artificial\n",
    "#print(select_modules)\n"
   ]
  },
  {
   "cell_type": "markdown",
   "metadata": {},
   "source": [
    "#### Normalize the FM-factors with drug treatment using the distribution of FM-factors without drug treatment"
   ]
  },
  {
   "cell_type": "code",
   "execution_count": null,
   "metadata": {},
   "outputs": [],
   "source": [
    "reference_factor_select_modules = FM_States.compare_factors_between_experimental_to_reference(ctrl_factor[list(select_modules)], matrix_factor[list(select_modules)])\n",
    "\n",
    "matrix_factor_selected = reference_factor_select_modules.loc[:,list(select_modules)]\n",
    "B = matrix_factor_selected.values\n",
    "nr,nc = B.shape\n",
    "samples_name = ro.r.c(matrix_factor_selected.index.values)\n",
    "factor_name  = ro.r.c(matrix_factor_selected.columns.values)\n",
    "\n",
    "Br = ro.r.matrix(B, nrow=nr, ncol=nc, dimnames = [ matrix_factor_selected.index.values, matrix_factor_selected.columns.values])\n",
    "%load_ext rpy2.ipython"
   ]
  },
  {
   "cell_type": "markdown",
   "metadata": {},
   "source": [
    "####  Cluster the FM-factor matrix into different states using Consensus Clustering method"
   ]
  },
  {
   "cell_type": "code",
   "execution_count": null,
   "metadata": {},
   "outputs": [],
   "source": [
    "%%R -i Br,samples_name,factor_name  -o Cluster_results -w 6 -h 6 --units in -r 300\n",
    "\n",
    "rownames(Br) = samples_name\n",
    "colnames(Br) = factor_name\n",
    "Cluster_results = ConsensusClusterPlus(t(apply(Br, 2, scale)), maxK = 8, rep = 100, pItem = 0.9, \n",
    "                             pFeature = 0.9, clusterAlg = \"km\", distance = \"euclidean\",seed = 2314)\n",
    "\n",
    "#print(Cluster_results)"
   ]
  },
  {
   "cell_type": "code",
   "execution_count": null,
   "metadata": {},
   "outputs": [],
   "source": [
    "%%R -i Cluster_results\n",
    "\n",
    "threshold = 0.8\n",
    "cc_score = c()\n",
    "\n",
    "for (i in seq(2,8)){\n",
    "    x = (Cluster_results[i][[1]]$consensusMatrix)\n",
    "    #print(x)\n",
    "    cc_score = c(cc_score, 1 - (length(x[x > threshold]) + length(x[x < (1- threshold)]))/length(x))\n",
    "}\n",
    "\n",
    "barplot(cc_score, ylab = 'proportion of ambiguous clustering (PAC)', names.arg=c(\"K=2\",\"K=3\",\"K=4\",\"K=5\",\"K=6\",\"K=7\",\"K=8\"))\n"
   ]
  },
  {
   "cell_type": "code",
   "execution_count": null,
   "metadata": {},
   "outputs": [],
   "source": [
    "cluster_sele = 5  #selection of clusters\n",
    "\n",
    "list_labe = [\"S2\",\"S3\",\"S1\",\"S4\",\"S5\"] #Reorder the clusters. \n",
    "\n",
    "colors = ['#ff8080','pink','#fdd5ac','#8895df', 'cyan'] #Define the colors for cluster annotation\n",
    "#The number of clusters and order of clusters here only reflects the example we are providing, for different dataset, the orders should be defined by the users."
   ]
  },
  {
   "cell_type": "code",
   "execution_count": null,
   "metadata": {},
   "outputs": [],
   "source": [
    "%%R -i Cluster_results,Br,samples_name,factor_name,select_modules,cluster_sele,colors,list_labe,out_dir   -w 5.5 -h 4 --units in -r 300\n",
    "#User specific orders\n",
    "library(pheatmap)\n",
    "rownames(Br) = samples_name\n",
    "colnames(Br) = factor_name\n",
    "\n",
    "plot_heatmap <- function(Cluster_results, Br, select_modules,cl_num_sele){\n",
    "\n",
    "    list_labe_R = c()\n",
    "    Rename_Label = c()\n",
    "    color_list = c()\n",
    "\n",
    "    for (i in seq(1,length(list_labe))){\n",
    "        list_labe_R = append(list_labe_R, list_labe[[i]][1])\n",
    "        Rename_Label = append(Rename_Label,paste('S',i,sep = ''))\n",
    "        color_list = append(color_list, colors[[i]][1])\n",
    "    }\n",
    "\n",
    "    names(Rename_Label) = list_labe_R  \n",
    "    names(color_list) = Rename_Label\n",
    "    anno_colors = list(States = color_list)\n",
    "\n",
    "\n",
    "    cl_sam = Cluster_results[[cl_num_sele]]$consensusClass\n",
    "    names(cl_sam) = rownames(Br)\n",
    "    annotation_col_1 = data.frame(cl_sam)\n",
    "    Factors = t(Br[,select_modules])\n",
    "    labe = paste('S',annotation_col_1[,1],sep = '')\n",
    "    names(labe) = rownames(annotation_col_1)\n",
    "\n",
    "    annotation_col_1 = c()\n",
    "    names_1 =c()\n",
    "\n",
    "\n",
    "\n",
    "    for(i in unique(list_labe_R) ){ \n",
    "      if (length(labe[which(labe == i)]) > 2){ \n",
    "          result_hclust = hclust(dist((Br[names(labe[which(labe == i)]),])))\n",
    "          names_1 = c(names_1, names(labe[which(labe == i)])[result_hclust$order])\n",
    "          annotation_col_1 = c(annotation_col_1, rep(Rename_Label[i],length(labe[which(labe == i)])))\n",
    "         }\n",
    "        else{ \n",
    "        names_1 = c(names_1, names(labe[which(labe == i)]))\n",
    "        annotation_col_1 = c(annotation_col_1, rep(Rename_Label[i],length(labe[which(labe == i)])))}\n",
    "    }\n",
    "    annotation_col_1 = data.frame(annotation_col_1)\n",
    "    rownames(annotation_col_1) = names_1\n",
    "    colnames(annotation_col_1) = c('States')\n",
    "\n",
    "\n",
    "\n",
    "    write.csv(annotation_col_1, file = paste(out_dir,\"/annotation_col.csv\",sep = ''))\n",
    "    color_forpheatmap = c(c(colorRampPalette(c(\"#0000ff\", \"#e1e5e5\"))(60),c(colorRampPalette(c(\"#e1e5e5\",\"#ff0000\"))(60)) ))\n",
    "\n",
    "    pheatmap(t(Br[names_1,select_modules]),\n",
    "             annotation_col = annotation_col_1,\n",
    "             annotation_colors = anno_colors[1],\n",
    "             labels_col = '',\n",
    "             fontsize = 6,\n",
    "             cluster_cols = FALSE,scale = 'row', \n",
    "             color = color_forpheatmap,\n",
    "             fontsize_row = 6\n",
    "            )\n",
    "    return(annotation_col_1)\n",
    "}\n",
    "\n",
    "annotation_col_1 = plot_heatmap(Cluster_results, Br, select_modules,cluster_sele)\n",
    "\n",
    "#print(annotation_col_1)"
   ]
  },
  {
   "cell_type": "code",
   "execution_count": null,
   "metadata": {},
   "outputs": [],
   "source": [
    "matrix_factor_selected = reference_factor_select_modules.loc[:,list(select_modules)]\n",
    "annotation_col_1 = annotation_col_1 = pd.read_csv(out_dir+\"/annotation_col.csv\", index_col= 'Unnamed: 0')\n",
    "#Features = FM_States.Get_features_one_vs_all_others(matrix_factor_selected, 0.01, 0.8, annotation_col_1,select_modules) ##user define threshold"
   ]
  },
  {
   "cell_type": "markdown",
   "metadata": {},
   "source": [
    "#### Annotation by functional modules"
   ]
  },
  {
   "cell_type": "code",
   "execution_count": null,
   "metadata": {},
   "outputs": [],
   "source": [
    "Features, dic_state = FM_States.Get_features_one_vs_one(matrix_factor_selected, 0.01, 1, 3, annotation_col_1,select_modules)"
   ]
  },
  {
   "cell_type": "markdown",
   "metadata": {},
   "source": [
    "#### Heatmap visualization of altered modules"
   ]
  },
  {
   "cell_type": "code",
   "execution_count": null,
   "metadata": {},
   "outputs": [],
   "source": [
    "modules = []\n",
    "for key in dic_state:\n",
    "    for key1 in dic_state[key]:\n",
    "        modules = modules + dic_state[key][key1]\n",
    "modules = list(set(modules))\n",
    "\n",
    "result = pd.DataFrame()\n",
    "for state in [\"S1\",\"S2\",\"S3\",\"S4\",\"S5\"]:\n",
    "    cur_state = []\n",
    "    for module in modules:\n",
    "        if (module in dic_state[state]['up']) and (module not in dic_state[state]['down']):\n",
    "            cur_state.append(1)\n",
    "        elif (module  in dic_state[state]['down']) and ( module not in dic_state[state]['up']):\n",
    "            cur_state.append(-1)\n",
    "        elif (module  in dic_state[state]['down']) and (module  in dic_state[state]['up']):\n",
    "            cur_state.append(0.5)\n",
    "        elif module not in dic_state[state]:\n",
    "            cur_state.append(0)\n",
    "    result[state] = cur_state \n",
    "\n",
    "result.index = modules\n",
    "result = result[~(result == 0).all(1)]"
   ]
  },
  {
   "cell_type": "code",
   "execution_count": null,
   "metadata": {},
   "outputs": [],
   "source": [
    "%%R -i result -w 3 -h 3 --units in -r 300\n",
    "\n",
    "n = 5\n",
    "order = c()\n",
    "for (i in seq(1,n)){\n",
    "    order = c(order, (paste('S',i,sep = '')))\n",
    "}\n",
    "\n",
    "Features = result\n",
    "color_max = max(round(min(Features)*100) * -1, round(max(Features)*100))\n",
    "#color_forpheatmap2 = c(c(colorRampPalette(c(\"#0000ff\", \"white\"))(color_max)[(color_max - (round(min(Features)*100) * -1)) : color_max],\n",
    "#                         c(colorRampPalette(c(\"white\",\"#ff0000\"))(color_max)[1:(round(max(Features)*100))]) ))\n",
    "color_forpheatmap2 = c(\"blue\",\"white\",'yellow','red')\n",
    "pheatmap((Features),border_color = \"grey\",\n",
    "         border_width = 0.05,\n",
    "         color = color_forpheatmap2,\n",
    "         cellwidth = 9,\n",
    "         cellheight = 6,\n",
    "         cluster_cols = FALSE,\n",
    "         fontsize = 6,\n",
    "         fontsize_row = 6,\n",
    "         fontsize_col = 6,\n",
    "         legend = FALSE)"
   ]
  },
  {
   "cell_type": "markdown",
   "metadata": {},
   "source": [
    "#### Heatmap visualization of the alteration of transcriptional regulation strength"
   ]
  },
  {
   "cell_type": "code",
   "execution_count": null,
   "metadata": {},
   "outputs": [],
   "source": [
    "modules = []\n",
    "for key in dic_state:\n",
    "    for key1 in dic_state[key]:\n",
    "        modules = modules + dic_state[key][key1]\n",
    "modules = list(set(modules))\n",
    "\n",
    "result = pd.DataFrame()\n",
    "for state in [\"S1\",\"S2\",\"S3\",\"S4\",\"S5\"]:\n",
    "    cur_state = []\n",
    "    for module in modules:\n",
    "        if (module in dic_state[state]['up_tf']) and (module not in dic_state[state]['down_tf']):\n",
    "            cur_state.append(1)\n",
    "        elif (module  in dic_state[state]['down_tf']) and ( module not in dic_state[state]['up_tf']):\n",
    "            cur_state.append(-1)\n",
    "        elif (module  in dic_state[state]['down_tf']) and (module  in dic_state[state]['up_tf']):\n",
    "            cur_state.append(0.5)\n",
    "        elif module not in dic_state[state]:\n",
    "            cur_state.append(0)\n",
    "    result[state] = cur_state \n",
    "\n",
    "result.index = modules\n",
    "result = result[~(result == 0).all(1)]"
   ]
  },
  {
   "cell_type": "code",
   "execution_count": null,
   "metadata": {
    "scrolled": true
   },
   "outputs": [],
   "source": [
    "%%R -i result -w 3 -h 3 --units in -r 300\n",
    "\n",
    "n = 5\n",
    "order = c()\n",
    "for (i in seq(1,n)){\n",
    "    order = c(order, (paste('S',i,sep = '')))\n",
    "}\n",
    "\n",
    "Features = result\n",
    "color_max = max(round(min(Features)*100) * -1, round(max(Features)*100))\n",
    "#color_forpheatmap2 = c(c(colorRampPalette(c(\"#0000ff\", \"white\"))(color_max)[(color_max - (round(min(Features)*100) * -1)) : color_max],\n",
    "#                         c(colorRampPalette(c(\"white\",\"#ff0000\"))(color_max)[1:(round(max(Features)*100))]) ))\n",
    "color_forpheatmap2 = c(\"blue\",\"white\",'yellow','red')\n",
    "pheatmap((Features),border_color = \"grey\",\n",
    "         border_width = 0.05,\n",
    "         color = color_forpheatmap2,\n",
    "         cellwidth = 9,\n",
    "         cellheight = 6,\n",
    "         fontsize = 6,\n",
    "         cluster_cols = FALSE,\n",
    "         fontsize_row = 6,\n",
    "         fontsize_col = 6,\n",
    "         legend = FALSE)"
   ]
  },
  {
   "cell_type": "markdown",
   "metadata": {},
   "source": [
    "#### Heatmap visualization of all altered functional-module factors"
   ]
  },
  {
   "cell_type": "code",
   "execution_count": null,
   "metadata": {},
   "outputs": [],
   "source": [
    "Features_r = Features.values\n",
    "nr,nc = Features.shape\n",
    "samples_name = ro.r.c(Features.index.values)\n",
    "factor_name = ro.r.c(Features.columns.values)\n",
    "\n",
    "Features_r = ro.r.matrix(Features_r, nrow=nr, ncol=nc, dimnames = [ Features.index.values, Features.columns.values])\n",
    "\n",
    "%load_ext rpy2.ipython"
   ]
  },
  {
   "cell_type": "code",
   "execution_count": null,
   "metadata": {},
   "outputs": [],
   "source": [
    "%%R -i Features_r,nr,nc,samples_name,factor_name -w 10 -h 6 --units in -r 300\n",
    "Features_r = matrix(Features_r,nr,nc,dimnames = list(samples_name,factor_name))\n",
    "\n",
    "## Need revision \n",
    "n = 5\n",
    "order = c()\n",
    "for (i in seq(1,n)){\n",
    "    order = c(order, (paste('S',i,sep = '')))\n",
    "}\n",
    "\n",
    "Features = Features_r[order,]\n",
    "#print(Features)\n",
    "color_max = max(round(min(Features)*100) * -1, round(max(Features)*100))\n",
    "color_forpheatmap2 = c(c(colorRampPalette(c(\"#0000ff\", \"white\"))(color_max)[(color_max - (round(min(Features)*100) * -1)) : color_max],\n",
    "                         c(colorRampPalette(c(\"white\",\"#ff0000\"))(color_max)[1:(round(max(Features)*100))]) ))\n",
    "\n",
    "label = Features\n",
    "label <- data.frame(matrix(as.numeric(unlist(Features)), nrow=length(Features), byrow=T))\n",
    "\n",
    "\n",
    "pheatmap((Features),border_color = \"grey\",\n",
    "         border_width = 0.05,\n",
    "         color = color_forpheatmap2,\n",
    "         cellwidth = 12,\n",
    "         cellheight = 12,\n",
    "         cluster_cols = TRUE,\n",
    "         cluster_row = FALSE,\n",
    "         fontsize_row = 6,\n",
    "         fontsize_col = 8,\n",
    "         legend = FALSE)"
   ]
  },
  {
   "cell_type": "code",
   "execution_count": null,
   "metadata": {},
   "outputs": [],
   "source": [
    "Features.to_csv(para_in['out_dir']+\"/Features.csv\")"
   ]
  },
  {
   "cell_type": "markdown",
   "metadata": {},
   "source": [
    "####  FM-factors that show significant difference between at least one state to the rest states using Wilcoxon rank-sum test (p<0.01 and |Effect size| > 1). There features are selected to predict therapeutic vulnerabilities."
   ]
  },
  {
   "cell_type": "code",
   "execution_count": null,
   "metadata": {},
   "outputs": [],
   "source": [
    "Features = FM_States.Get_features_one_vs_all_others(matrix_factor_selected, 0.01, 1, annotation_col_1,select_modules)\n",
    "Features.to_csv(para_in['out_dir']+\"/Features_diff_all.csv\")"
   ]
  },
  {
   "cell_type": "markdown",
   "metadata": {},
   "source": [
    "#### For more annotation about the transcription factor regulation, drug concentration or drug targets, please check Example1_annotation_tf, Example1_annotation_drugResponse.ipynb and Example1_annotation_targets."
   ]
  }
 ],
 "metadata": {
  "kernelspec": {
   "display_name": "Python 3 (ipykernel)",
   "language": "python",
   "name": "python3"
  },
  "language_info": {
   "codemirror_mode": {
    "name": "ipython",
    "version": 3
   },
   "file_extension": ".py",
   "mimetype": "text/x-python",
   "name": "python",
   "nbconvert_exporter": "python",
   "pygments_lexer": "ipython3",
   "version": "3.9.7"
  }
 },
 "nbformat": 4,
 "nbformat_minor": 2
}
