{
 "cells": [
  {
   "cell_type": "code",
   "execution_count": 1,
   "metadata": {},
   "outputs": [],
   "source": [
    "import os\n",
    "import sys\n",
    "import pandas as pd\n",
    "import numpy as np\n",
    "import matplotlib.pyplot as plt\n",
    "import seaborn as sns\n",
    "import rpy2.robjects as ro\n",
    "import rpy2.robjects.numpy2ri\n",
    "rpy2.robjects.numpy2ri.activate()\n",
    "import scipy \n",
    "import scipy.stats as ss\n",
    "import statsmodels\n",
    "from statsmodels import stats\n",
    "from statsmodels.stats import multitest\n",
    "sys.path.append('../Script/')\n",
    "import FM_States\n",
    "import FM_selection\n",
    "import TF\n",
    "#from FM_States import *\n",
    "import rpy2\n",
    "from rpy2.robjects.packages import importr\n",
    "from sklearn.neighbors import KNeighborsClassifier\n",
    "import random\n",
    "\n",
    "base = importr('base')\n",
    "CC = importr('ConsensusClusterPlus')\n",
    "pheatmap = importr('pheatmap')\n",
    "bezier = importr('bezier')\n",
    "\n",
    "ROOT_DIR = os.path.abspath(\"../\")"
   ]
  },
  {
   "cell_type": "code",
   "execution_count": 2,
   "metadata": {},
   "outputs": [],
   "source": [
    "para = {\n",
    "    'output_dir': ROOT_DIR+\"/Sample_output/Example2/\",\n",
    "    'input_fmf_file_drug': ROOT_DIR +  \"/Sample_output/Example1/matrix_factor_mcf7.csv\",\n",
    "    'input_fmf_file_sh':ROOT_DIR + \"/Sample_output/Example2/matrix_factor_sh_mcf7.csv\",\n",
    "    'annotation_col':ROOT_DIR + \"/Sample_output/Example1/annotation_col.csv\",\n",
    "    'selected_factor':ROOT_DIR +\"/Sample_output/Example1/Features_diff_all.csv\",\n",
    "    'meta':ROOT_DIR + '/Sample_input/Example2/MetaData_sig_info_sh_MCF7_96h.csv',\n",
    "    \n",
    "}"
   ]
  },
  {
   "cell_type": "code",
   "execution_count": 3,
   "metadata": {},
   "outputs": [
    {
     "name": "stdout",
     "output_type": "stream",
     "text": [
      "Info: Creation of the directory failed!\n",
      "The direcory of /project/Sample_output/Example2/ may already exsit!\n"
     ]
    }
   ],
   "source": [
    "output_dir = para['output_dir']\n",
    "try:\n",
    "    os.mkdir(output_dir)\n",
    "except OSError:\n",
    "    print (\"Info: Creation of the directory failed!\\nThe direcory of %s may already exsit!\" % output_dir)\n",
    "else:\n",
    "    print (\"Successfully created the directory %s \" % output_dir)\n",
    "    "
   ]
  },
  {
   "cell_type": "code",
   "execution_count": 4,
   "metadata": {},
   "outputs": [],
   "source": [
    "matrix_factor_sh_MCF7 = pd.read_csv(para['input_fmf_file_sh'], index_col = 'Unnamed: 0')\n",
    "matrix_factor = pd.read_csv(para['input_fmf_file_drug'], index_col = 'Unnamed: 0')\n",
    "annotation_col_1 = pd.read_csv(para['annotation_col'], index_col= 'Unnamed: 0')\n",
    "colors = ['red','pink','#fdd5ac','#8895df', 'cyan'] #Define the colors for cluster annotation\n",
    "output_dir = para['output_dir']\n",
    "select_modules =pd.read_csv(para['selected_factor'],index_col= 'Unnamed: 0')\n",
    "meta_sh = pd.read_csv(para['meta'])  ## Annotation data for shRNA\n",
    "meta_sh.index = meta_sh['sig_id']"
   ]
  },
  {
   "cell_type": "code",
   "execution_count": 25,
   "metadata": {},
   "outputs": [
    {
     "data": {
      "text/html": [
       "<div>\n",
       "<style scoped>\n",
       "    .dataframe tbody tr th:only-of-type {\n",
       "        vertical-align: middle;\n",
       "    }\n",
       "\n",
       "    .dataframe tbody tr th {\n",
       "        vertical-align: top;\n",
       "    }\n",
       "\n",
       "    .dataframe thead th {\n",
       "        text-align: right;\n",
       "    }\n",
       "</style>\n",
       "<table border=\"1\" class=\"dataframe\">\n",
       "  <thead>\n",
       "    <tr style=\"text-align: right;\">\n",
       "      <th></th>\n",
       "      <th>Carbohydrate metabolism_up</th>\n",
       "      <th>Membrane transport_up</th>\n",
       "      <th>Signaling molecules and interaction_up</th>\n",
       "      <th>Transport and catabolism_up</th>\n",
       "      <th>Folding sorting and degradation_tf</th>\n",
       "      <th>Lipid metabolism_tf</th>\n",
       "      <th>Signaling molecules and interaction_tf</th>\n",
       "      <th>Transport and catabolism_tf</th>\n",
       "      <th>Cell motility_tf</th>\n",
       "      <th>Translation_down</th>\n",
       "      <th>...</th>\n",
       "      <th>Cellular senescence_down</th>\n",
       "      <th>p53 signaling pathway_down</th>\n",
       "      <th>Folding sorting and degradation_ssGSEA</th>\n",
       "      <th>Nucleotide metabolism_ssGSEA</th>\n",
       "      <th>Replication and repair_ssGSEA</th>\n",
       "      <th>Transcription_ssGSEA</th>\n",
       "      <th>Translation_ssGSEA</th>\n",
       "      <th>Replication and repair_tf</th>\n",
       "      <th>Cell cycle_tf</th>\n",
       "      <th>Cellular senescence_tf</th>\n",
       "    </tr>\n",
       "  </thead>\n",
       "  <tbody>\n",
       "    <tr>\n",
       "      <th>S2</th>\n",
       "      <td>-0.842137</td>\n",
       "      <td>-0.749050</td>\n",
       "      <td>-0.395911</td>\n",
       "      <td>-0.747060</td>\n",
       "      <td>0.150953</td>\n",
       "      <td>0.136009</td>\n",
       "      <td>0.222026</td>\n",
       "      <td>0.237174</td>\n",
       "      <td>0.014765</td>\n",
       "      <td>-0.671728</td>\n",
       "      <td>...</td>\n",
       "      <td>-0.847714</td>\n",
       "      <td>-0.787169</td>\n",
       "      <td>-0.750859</td>\n",
       "      <td>0.056793</td>\n",
       "      <td>0.204667</td>\n",
       "      <td>-0.387573</td>\n",
       "      <td>-0.320110</td>\n",
       "      <td>0.591218</td>\n",
       "      <td>0.608147</td>\n",
       "      <td>0.485264</td>\n",
       "    </tr>\n",
       "    <tr>\n",
       "      <th>S5</th>\n",
       "      <td>1.369734</td>\n",
       "      <td>1.217978</td>\n",
       "      <td>1.635456</td>\n",
       "      <td>1.432606</td>\n",
       "      <td>2.069290</td>\n",
       "      <td>1.614555</td>\n",
       "      <td>2.411984</td>\n",
       "      <td>1.577198</td>\n",
       "      <td>1.889545</td>\n",
       "      <td>1.438075</td>\n",
       "      <td>...</td>\n",
       "      <td>1.176272</td>\n",
       "      <td>0.982059</td>\n",
       "      <td>-1.403204</td>\n",
       "      <td>-0.953937</td>\n",
       "      <td>-0.876655</td>\n",
       "      <td>-1.357067</td>\n",
       "      <td>-1.440178</td>\n",
       "      <td>1.115875</td>\n",
       "      <td>1.028333</td>\n",
       "      <td>1.024285</td>\n",
       "    </tr>\n",
       "    <tr>\n",
       "      <th>S4</th>\n",
       "      <td>1.603662</td>\n",
       "      <td>1.500208</td>\n",
       "      <td>1.327890</td>\n",
       "      <td>1.572171</td>\n",
       "      <td>0.356778</td>\n",
       "      <td>0.619957</td>\n",
       "      <td>-0.045270</td>\n",
       "      <td>0.757047</td>\n",
       "      <td>0.733088</td>\n",
       "      <td>1.488860</td>\n",
       "      <td>...</td>\n",
       "      <td>1.563108</td>\n",
       "      <td>1.441733</td>\n",
       "      <td>-0.332132</td>\n",
       "      <td>-1.464833</td>\n",
       "      <td>-1.690883</td>\n",
       "      <td>-0.935038</td>\n",
       "      <td>-1.037394</td>\n",
       "      <td>-2.461859</td>\n",
       "      <td>-2.521460</td>\n",
       "      <td>-1.942278</td>\n",
       "    </tr>\n",
       "    <tr>\n",
       "      <th>S1</th>\n",
       "      <td>-1.638009</td>\n",
       "      <td>-1.246612</td>\n",
       "      <td>-1.975294</td>\n",
       "      <td>-1.881662</td>\n",
       "      <td>-1.127527</td>\n",
       "      <td>-1.135085</td>\n",
       "      <td>-1.151315</td>\n",
       "      <td>-1.089239</td>\n",
       "      <td>-1.138606</td>\n",
       "      <td>-1.827109</td>\n",
       "      <td>...</td>\n",
       "      <td>-1.664955</td>\n",
       "      <td>-1.438185</td>\n",
       "      <td>1.428101</td>\n",
       "      <td>2.020029</td>\n",
       "      <td>1.884383</td>\n",
       "      <td>2.000000</td>\n",
       "      <td>2.047389</td>\n",
       "      <td>0.154824</td>\n",
       "      <td>0.172999</td>\n",
       "      <td>-0.016001</td>\n",
       "    </tr>\n",
       "    <tr>\n",
       "      <th>S3</th>\n",
       "      <td>0.661579</td>\n",
       "      <td>0.405481</td>\n",
       "      <td>0.395969</td>\n",
       "      <td>0.705191</td>\n",
       "      <td>-0.437831</td>\n",
       "      <td>-0.361807</td>\n",
       "      <td>-0.366034</td>\n",
       "      <td>-0.582697</td>\n",
       "      <td>-0.431560</td>\n",
       "      <td>0.630927</td>\n",
       "      <td>...</td>\n",
       "      <td>0.840625</td>\n",
       "      <td>0.805195</td>\n",
       "      <td>0.453976</td>\n",
       "      <td>-0.404043</td>\n",
       "      <td>-0.442347</td>\n",
       "      <td>0.062334</td>\n",
       "      <td>0.072080</td>\n",
       "      <td>-0.429013</td>\n",
       "      <td>-0.392372</td>\n",
       "      <td>-0.219912</td>\n",
       "    </tr>\n",
       "  </tbody>\n",
       "</table>\n",
       "<p>5 rows × 24 columns</p>\n",
       "</div>"
      ],
      "text/plain": [
       "    Carbohydrate metabolism_up  Membrane transport_up  \\\n",
       "S2                   -0.842137              -0.749050   \n",
       "S5                    1.369734               1.217978   \n",
       "S4                    1.603662               1.500208   \n",
       "S1                   -1.638009              -1.246612   \n",
       "S3                    0.661579               0.405481   \n",
       "\n",
       "    Signaling molecules and interaction_up  Transport and catabolism_up  \\\n",
       "S2                               -0.395911                    -0.747060   \n",
       "S5                                1.635456                     1.432606   \n",
       "S4                                1.327890                     1.572171   \n",
       "S1                               -1.975294                    -1.881662   \n",
       "S3                                0.395969                     0.705191   \n",
       "\n",
       "    Folding sorting and degradation_tf  Lipid metabolism_tf  \\\n",
       "S2                            0.150953             0.136009   \n",
       "S5                            2.069290             1.614555   \n",
       "S4                            0.356778             0.619957   \n",
       "S1                           -1.127527            -1.135085   \n",
       "S3                           -0.437831            -0.361807   \n",
       "\n",
       "    Signaling molecules and interaction_tf  Transport and catabolism_tf  \\\n",
       "S2                                0.222026                     0.237174   \n",
       "S5                                2.411984                     1.577198   \n",
       "S4                               -0.045270                     0.757047   \n",
       "S1                               -1.151315                    -1.089239   \n",
       "S3                               -0.366034                    -0.582697   \n",
       "\n",
       "    Cell motility_tf  Translation_down  ...  Cellular senescence_down  \\\n",
       "S2          0.014765         -0.671728  ...                 -0.847714   \n",
       "S5          1.889545          1.438075  ...                  1.176272   \n",
       "S4          0.733088          1.488860  ...                  1.563108   \n",
       "S1         -1.138606         -1.827109  ...                 -1.664955   \n",
       "S3         -0.431560          0.630927  ...                  0.840625   \n",
       "\n",
       "    p53 signaling pathway_down  Folding sorting and degradation_ssGSEA  \\\n",
       "S2                   -0.787169                               -0.750859   \n",
       "S5                    0.982059                               -1.403204   \n",
       "S4                    1.441733                               -0.332132   \n",
       "S1                   -1.438185                                1.428101   \n",
       "S3                    0.805195                                0.453976   \n",
       "\n",
       "    Nucleotide metabolism_ssGSEA  Replication and repair_ssGSEA  \\\n",
       "S2                      0.056793                       0.204667   \n",
       "S5                     -0.953937                      -0.876655   \n",
       "S4                     -1.464833                      -1.690883   \n",
       "S1                      2.020029                       1.884383   \n",
       "S3                     -0.404043                      -0.442347   \n",
       "\n",
       "    Transcription_ssGSEA  Translation_ssGSEA  Replication and repair_tf  \\\n",
       "S2             -0.387573           -0.320110                   0.591218   \n",
       "S5             -1.357067           -1.440178                   1.115875   \n",
       "S4             -0.935038           -1.037394                  -2.461859   \n",
       "S1              2.000000            2.047389                   0.154824   \n",
       "S3              0.062334            0.072080                  -0.429013   \n",
       "\n",
       "    Cell cycle_tf  Cellular senescence_tf  \n",
       "S2       0.608147                0.485264  \n",
       "S5       1.028333                1.024285  \n",
       "S4      -2.521460               -1.942278  \n",
       "S1       0.172999               -0.016001  \n",
       "S3      -0.392372               -0.219912  \n",
       "\n",
       "[5 rows x 24 columns]"
      ]
     },
     "execution_count": 25,
     "metadata": {},
     "output_type": "execute_result"
    }
   ],
   "source": [
    "select_modules"
   ]
  },
  {
   "cell_type": "code",
   "execution_count": 31,
   "metadata": {},
   "outputs": [],
   "source": [
    "from sklearn.neighbors import KNeighborsClassifier\n",
    "import random\n",
    "y = annotation_col_1.loc[list(matrix_factor.index.values)]  ## use the states after drug treatment as labels;\n",
    "x = matrix_factor[list(select_modules)].values              ## use the states after drug treatment as training set;\n",
    "y_test = matrix_factor_sh_MCF7[list(select_modules)]        ## use the FM-factors after shRNA knockdown as the testing set;"
   ]
  },
  {
   "cell_type": "code",
   "execution_count": 32,
   "metadata": {},
   "outputs": [],
   "source": [
    "#from sklearn.neighbors import KNeighborsClassifier\n",
    "#import random\n",
    "#y = annotation_col_1.loc[list(matrix_factor.index.values)]  ## use the states after drug treatment as labels;\n",
    "#x = matrix_factor.values              ## use the states after drug treatment as training set;\n",
    "#y_test = matrix_factor_sh_MCF7       ## use the FM-factors after shRNA knockdown as the testing set;"
   ]
  },
  {
   "cell_type": "code",
   "execution_count": 33,
   "metadata": {},
   "outputs": [],
   "source": [
    "from sklearn.model_selection import train_test_split\n",
    "from sklearn.model_selection import cross_val_score\n",
    "from sklearn.ensemble import RandomForestClassifier\n",
    "import numpy as np\n",
    "\n",
    "#split dataset into train and test data\n",
    "x_train, X_val, y_train, y_val = train_test_split(x, y, test_size=0.2, random_state=25223, stratify=y)"
   ]
  },
  {
   "cell_type": "code",
   "execution_count": 34,
   "metadata": {},
   "outputs": [
    {
     "name": "stderr",
     "output_type": "stream",
     "text": [
      "/opt/conda/lib/python3.7/site-packages/sklearn/ensemble/forest.py:245: FutureWarning: The default value of n_estimators will change from 10 in version 0.20 to 100 in 0.22.\n",
      "  \"10 in version 0.20 to 100 in 0.22.\", FutureWarning)\n",
      "/opt/conda/lib/python3.7/site-packages/sklearn/ensemble/forest.py:245: FutureWarning: The default value of n_estimators will change from 10 in version 0.20 to 100 in 0.22.\n",
      "  \"10 in version 0.20 to 100 in 0.22.\", FutureWarning)\n",
      "/opt/conda/lib/python3.7/site-packages/sklearn/ensemble/forest.py:245: FutureWarning: The default value of n_estimators will change from 10 in version 0.20 to 100 in 0.22.\n",
      "  \"10 in version 0.20 to 100 in 0.22.\", FutureWarning)\n",
      "/opt/conda/lib/python3.7/site-packages/sklearn/ensemble/forest.py:245: FutureWarning: The default value of n_estimators will change from 10 in version 0.20 to 100 in 0.22.\n",
      "  \"10 in version 0.20 to 100 in 0.22.\", FutureWarning)\n",
      "/opt/conda/lib/python3.7/site-packages/sklearn/ensemble/forest.py:245: FutureWarning: The default value of n_estimators will change from 10 in version 0.20 to 100 in 0.22.\n",
      "  \"10 in version 0.20 to 100 in 0.22.\", FutureWarning)\n"
     ]
    },
    {
     "name": "stdout",
     "output_type": "stream",
     "text": [
      "[0.76744186 0.74031008 0.73255814 0.63424125 0.6796875 ]\n",
      "[0.48449612 0.47674419 0.48449612 0.49805447 0.46875   ]\n"
     ]
    },
    {
     "name": "stderr",
     "output_type": "stream",
     "text": [
      "/opt/conda/lib/python3.7/site-packages/sklearn/ensemble/forest.py:245: FutureWarning: The default value of n_estimators will change from 10 in version 0.20 to 100 in 0.22.\n",
      "  \"10 in version 0.20 to 100 in 0.22.\", FutureWarning)\n",
      "/opt/conda/lib/python3.7/site-packages/sklearn/ensemble/forest.py:245: FutureWarning: The default value of n_estimators will change from 10 in version 0.20 to 100 in 0.22.\n",
      "  \"10 in version 0.20 to 100 in 0.22.\", FutureWarning)\n",
      "/opt/conda/lib/python3.7/site-packages/sklearn/ensemble/forest.py:245: FutureWarning: The default value of n_estimators will change from 10 in version 0.20 to 100 in 0.22.\n",
      "  \"10 in version 0.20 to 100 in 0.22.\", FutureWarning)\n",
      "/opt/conda/lib/python3.7/site-packages/sklearn/ensemble/forest.py:245: FutureWarning: The default value of n_estimators will change from 10 in version 0.20 to 100 in 0.22.\n",
      "  \"10 in version 0.20 to 100 in 0.22.\", FutureWarning)\n",
      "/opt/conda/lib/python3.7/site-packages/sklearn/ensemble/forest.py:245: FutureWarning: The default value of n_estimators will change from 10 in version 0.20 to 100 in 0.22.\n",
      "  \"10 in version 0.20 to 100 in 0.22.\", FutureWarning)\n"
     ]
    },
    {
     "name": "stdout",
     "output_type": "stream",
     "text": [
      "[0.74418605 0.77906977 0.75193798 0.64202335 0.6796875 ]\n",
      "[0.78682171 0.85271318 0.87596899 0.80933852 0.8046875 ]\n"
     ]
    },
    {
     "name": "stderr",
     "output_type": "stream",
     "text": [
      "/opt/conda/lib/python3.7/site-packages/sklearn/ensemble/forest.py:245: FutureWarning: The default value of n_estimators will change from 10 in version 0.20 to 100 in 0.22.\n",
      "  \"10 in version 0.20 to 100 in 0.22.\", FutureWarning)\n",
      "/opt/conda/lib/python3.7/site-packages/sklearn/ensemble/forest.py:245: FutureWarning: The default value of n_estimators will change from 10 in version 0.20 to 100 in 0.22.\n",
      "  \"10 in version 0.20 to 100 in 0.22.\", FutureWarning)\n",
      "/opt/conda/lib/python3.7/site-packages/sklearn/ensemble/forest.py:245: FutureWarning: The default value of n_estimators will change from 10 in version 0.20 to 100 in 0.22.\n",
      "  \"10 in version 0.20 to 100 in 0.22.\", FutureWarning)\n",
      "/opt/conda/lib/python3.7/site-packages/sklearn/ensemble/forest.py:245: FutureWarning: The default value of n_estimators will change from 10 in version 0.20 to 100 in 0.22.\n",
      "  \"10 in version 0.20 to 100 in 0.22.\", FutureWarning)\n",
      "/opt/conda/lib/python3.7/site-packages/sklearn/ensemble/forest.py:245: FutureWarning: The default value of n_estimators will change from 10 in version 0.20 to 100 in 0.22.\n",
      "  \"10 in version 0.20 to 100 in 0.22.\", FutureWarning)\n"
     ]
    },
    {
     "name": "stdout",
     "output_type": "stream",
     "text": [
      "[0.77131783 0.77131783 0.75193798 0.6381323  0.69921875]\n",
      "[0.8372093  0.89922481 0.85658915 0.83268482 0.8515625 ]\n"
     ]
    },
    {
     "name": "stderr",
     "output_type": "stream",
     "text": [
      "/opt/conda/lib/python3.7/site-packages/sklearn/ensemble/forest.py:245: FutureWarning: The default value of n_estimators will change from 10 in version 0.20 to 100 in 0.22.\n",
      "  \"10 in version 0.20 to 100 in 0.22.\", FutureWarning)\n",
      "/opt/conda/lib/python3.7/site-packages/sklearn/ensemble/forest.py:245: FutureWarning: The default value of n_estimators will change from 10 in version 0.20 to 100 in 0.22.\n",
      "  \"10 in version 0.20 to 100 in 0.22.\", FutureWarning)\n",
      "/opt/conda/lib/python3.7/site-packages/sklearn/ensemble/forest.py:245: FutureWarning: The default value of n_estimators will change from 10 in version 0.20 to 100 in 0.22.\n",
      "  \"10 in version 0.20 to 100 in 0.22.\", FutureWarning)\n",
      "/opt/conda/lib/python3.7/site-packages/sklearn/ensemble/forest.py:245: FutureWarning: The default value of n_estimators will change from 10 in version 0.20 to 100 in 0.22.\n",
      "  \"10 in version 0.20 to 100 in 0.22.\", FutureWarning)\n",
      "/opt/conda/lib/python3.7/site-packages/sklearn/ensemble/forest.py:245: FutureWarning: The default value of n_estimators will change from 10 in version 0.20 to 100 in 0.22.\n",
      "  \"10 in version 0.20 to 100 in 0.22.\", FutureWarning)\n"
     ]
    },
    {
     "name": "stdout",
     "output_type": "stream",
     "text": [
      "[0.7751938  0.79457364 0.75581395 0.63424125 0.66796875]\n",
      "[0.84496124 0.88372093 0.89922481 0.85214008 0.83984375]\n"
     ]
    },
    {
     "name": "stderr",
     "output_type": "stream",
     "text": [
      "/opt/conda/lib/python3.7/site-packages/sklearn/ensemble/forest.py:245: FutureWarning: The default value of n_estimators will change from 10 in version 0.20 to 100 in 0.22.\n",
      "  \"10 in version 0.20 to 100 in 0.22.\", FutureWarning)\n",
      "/opt/conda/lib/python3.7/site-packages/sklearn/ensemble/forest.py:245: FutureWarning: The default value of n_estimators will change from 10 in version 0.20 to 100 in 0.22.\n",
      "  \"10 in version 0.20 to 100 in 0.22.\", FutureWarning)\n",
      "/opt/conda/lib/python3.7/site-packages/sklearn/ensemble/forest.py:245: FutureWarning: The default value of n_estimators will change from 10 in version 0.20 to 100 in 0.22.\n",
      "  \"10 in version 0.20 to 100 in 0.22.\", FutureWarning)\n",
      "/opt/conda/lib/python3.7/site-packages/sklearn/ensemble/forest.py:245: FutureWarning: The default value of n_estimators will change from 10 in version 0.20 to 100 in 0.22.\n",
      "  \"10 in version 0.20 to 100 in 0.22.\", FutureWarning)\n",
      "/opt/conda/lib/python3.7/site-packages/sklearn/ensemble/forest.py:245: FutureWarning: The default value of n_estimators will change from 10 in version 0.20 to 100 in 0.22.\n",
      "  \"10 in version 0.20 to 100 in 0.22.\", FutureWarning)\n"
     ]
    },
    {
     "name": "stdout",
     "output_type": "stream",
     "text": [
      "[0.76744186 0.78682171 0.76356589 0.62256809 0.68359375]\n",
      "[0.86046512 0.8875969  0.89534884 0.83268482 0.859375  ]\n"
     ]
    },
    {
     "name": "stderr",
     "output_type": "stream",
     "text": [
      "/opt/conda/lib/python3.7/site-packages/sklearn/ensemble/forest.py:245: FutureWarning: The default value of n_estimators will change from 10 in version 0.20 to 100 in 0.22.\n",
      "  \"10 in version 0.20 to 100 in 0.22.\", FutureWarning)\n",
      "/opt/conda/lib/python3.7/site-packages/sklearn/ensemble/forest.py:245: FutureWarning: The default value of n_estimators will change from 10 in version 0.20 to 100 in 0.22.\n",
      "  \"10 in version 0.20 to 100 in 0.22.\", FutureWarning)\n",
      "/opt/conda/lib/python3.7/site-packages/sklearn/ensemble/forest.py:245: FutureWarning: The default value of n_estimators will change from 10 in version 0.20 to 100 in 0.22.\n",
      "  \"10 in version 0.20 to 100 in 0.22.\", FutureWarning)\n",
      "/opt/conda/lib/python3.7/site-packages/sklearn/ensemble/forest.py:245: FutureWarning: The default value of n_estimators will change from 10 in version 0.20 to 100 in 0.22.\n",
      "  \"10 in version 0.20 to 100 in 0.22.\", FutureWarning)\n",
      "/opt/conda/lib/python3.7/site-packages/sklearn/ensemble/forest.py:245: FutureWarning: The default value of n_estimators will change from 10 in version 0.20 to 100 in 0.22.\n",
      "  \"10 in version 0.20 to 100 in 0.22.\", FutureWarning)\n"
     ]
    },
    {
     "name": "stdout",
     "output_type": "stream",
     "text": [
      "[0.75968992 0.78682171 0.76744186 0.64980545 0.67578125]\n",
      "[0.84496124 0.89534884 0.87984496 0.84435798 0.87890625]\n"
     ]
    },
    {
     "name": "stderr",
     "output_type": "stream",
     "text": [
      "/opt/conda/lib/python3.7/site-packages/sklearn/ensemble/forest.py:245: FutureWarning: The default value of n_estimators will change from 10 in version 0.20 to 100 in 0.22.\n",
      "  \"10 in version 0.20 to 100 in 0.22.\", FutureWarning)\n",
      "/opt/conda/lib/python3.7/site-packages/sklearn/ensemble/forest.py:245: FutureWarning: The default value of n_estimators will change from 10 in version 0.20 to 100 in 0.22.\n",
      "  \"10 in version 0.20 to 100 in 0.22.\", FutureWarning)\n",
      "/opt/conda/lib/python3.7/site-packages/sklearn/ensemble/forest.py:245: FutureWarning: The default value of n_estimators will change from 10 in version 0.20 to 100 in 0.22.\n",
      "  \"10 in version 0.20 to 100 in 0.22.\", FutureWarning)\n",
      "/opt/conda/lib/python3.7/site-packages/sklearn/ensemble/forest.py:245: FutureWarning: The default value of n_estimators will change from 10 in version 0.20 to 100 in 0.22.\n",
      "  \"10 in version 0.20 to 100 in 0.22.\", FutureWarning)\n",
      "/opt/conda/lib/python3.7/site-packages/sklearn/ensemble/forest.py:245: FutureWarning: The default value of n_estimators will change from 10 in version 0.20 to 100 in 0.22.\n",
      "  \"10 in version 0.20 to 100 in 0.22.\", FutureWarning)\n"
     ]
    },
    {
     "name": "stdout",
     "output_type": "stream",
     "text": [
      "[0.75581395 0.79069767 0.75968992 0.6381323  0.67578125]\n",
      "[0.84108527 0.87209302 0.8875969  0.87159533 0.89453125]\n"
     ]
    },
    {
     "name": "stderr",
     "output_type": "stream",
     "text": [
      "/opt/conda/lib/python3.7/site-packages/sklearn/ensemble/forest.py:245: FutureWarning: The default value of n_estimators will change from 10 in version 0.20 to 100 in 0.22.\n",
      "  \"10 in version 0.20 to 100 in 0.22.\", FutureWarning)\n",
      "/opt/conda/lib/python3.7/site-packages/sklearn/ensemble/forest.py:245: FutureWarning: The default value of n_estimators will change from 10 in version 0.20 to 100 in 0.22.\n",
      "  \"10 in version 0.20 to 100 in 0.22.\", FutureWarning)\n",
      "/opt/conda/lib/python3.7/site-packages/sklearn/ensemble/forest.py:245: FutureWarning: The default value of n_estimators will change from 10 in version 0.20 to 100 in 0.22.\n",
      "  \"10 in version 0.20 to 100 in 0.22.\", FutureWarning)\n",
      "/opt/conda/lib/python3.7/site-packages/sklearn/ensemble/forest.py:245: FutureWarning: The default value of n_estimators will change from 10 in version 0.20 to 100 in 0.22.\n",
      "  \"10 in version 0.20 to 100 in 0.22.\", FutureWarning)\n",
      "/opt/conda/lib/python3.7/site-packages/sklearn/ensemble/forest.py:245: FutureWarning: The default value of n_estimators will change from 10 in version 0.20 to 100 in 0.22.\n",
      "  \"10 in version 0.20 to 100 in 0.22.\", FutureWarning)\n"
     ]
    },
    {
     "name": "stdout",
     "output_type": "stream",
     "text": [
      "[0.75581395 0.79069767 0.74806202 0.62645914 0.68359375]\n",
      "[0.85658915 0.89534884 0.87209302 0.85992218 0.85546875]\n"
     ]
    },
    {
     "name": "stderr",
     "output_type": "stream",
     "text": [
      "/opt/conda/lib/python3.7/site-packages/sklearn/ensemble/forest.py:245: FutureWarning: The default value of n_estimators will change from 10 in version 0.20 to 100 in 0.22.\n",
      "  \"10 in version 0.20 to 100 in 0.22.\", FutureWarning)\n",
      "/opt/conda/lib/python3.7/site-packages/sklearn/ensemble/forest.py:245: FutureWarning: The default value of n_estimators will change from 10 in version 0.20 to 100 in 0.22.\n",
      "  \"10 in version 0.20 to 100 in 0.22.\", FutureWarning)\n",
      "/opt/conda/lib/python3.7/site-packages/sklearn/ensemble/forest.py:245: FutureWarning: The default value of n_estimators will change from 10 in version 0.20 to 100 in 0.22.\n",
      "  \"10 in version 0.20 to 100 in 0.22.\", FutureWarning)\n",
      "/opt/conda/lib/python3.7/site-packages/sklearn/ensemble/forest.py:245: FutureWarning: The default value of n_estimators will change from 10 in version 0.20 to 100 in 0.22.\n",
      "  \"10 in version 0.20 to 100 in 0.22.\", FutureWarning)\n",
      "/opt/conda/lib/python3.7/site-packages/sklearn/ensemble/forest.py:245: FutureWarning: The default value of n_estimators will change from 10 in version 0.20 to 100 in 0.22.\n",
      "  \"10 in version 0.20 to 100 in 0.22.\", FutureWarning)\n"
     ]
    },
    {
     "name": "stdout",
     "output_type": "stream",
     "text": [
      "[0.75193798 0.79069767 0.74418605 0.61478599 0.67578125]\n",
      "[0.85271318 0.92635659 0.89922481 0.78599222 0.8359375 ]\n"
     ]
    },
    {
     "name": "stderr",
     "output_type": "stream",
     "text": [
      "/opt/conda/lib/python3.7/site-packages/sklearn/ensemble/forest.py:245: FutureWarning: The default value of n_estimators will change from 10 in version 0.20 to 100 in 0.22.\n",
      "  \"10 in version 0.20 to 100 in 0.22.\", FutureWarning)\n",
      "/opt/conda/lib/python3.7/site-packages/sklearn/ensemble/forest.py:245: FutureWarning: The default value of n_estimators will change from 10 in version 0.20 to 100 in 0.22.\n",
      "  \"10 in version 0.20 to 100 in 0.22.\", FutureWarning)\n",
      "/opt/conda/lib/python3.7/site-packages/sklearn/ensemble/forest.py:245: FutureWarning: The default value of n_estimators will change from 10 in version 0.20 to 100 in 0.22.\n",
      "  \"10 in version 0.20 to 100 in 0.22.\", FutureWarning)\n",
      "/opt/conda/lib/python3.7/site-packages/sklearn/ensemble/forest.py:245: FutureWarning: The default value of n_estimators will change from 10 in version 0.20 to 100 in 0.22.\n",
      "  \"10 in version 0.20 to 100 in 0.22.\", FutureWarning)\n",
      "/opt/conda/lib/python3.7/site-packages/sklearn/ensemble/forest.py:245: FutureWarning: The default value of n_estimators will change from 10 in version 0.20 to 100 in 0.22.\n",
      "  \"10 in version 0.20 to 100 in 0.22.\", FutureWarning)\n"
     ]
    },
    {
     "name": "stdout",
     "output_type": "stream",
     "text": [
      "[0.75581395 0.79069767 0.72093023 0.61478599 0.67578125]\n",
      "[0.8372093  0.87209302 0.87209302 0.82490272 0.8515625 ]\n"
     ]
    },
    {
     "name": "stderr",
     "output_type": "stream",
     "text": [
      "/opt/conda/lib/python3.7/site-packages/sklearn/ensemble/forest.py:245: FutureWarning: The default value of n_estimators will change from 10 in version 0.20 to 100 in 0.22.\n",
      "  \"10 in version 0.20 to 100 in 0.22.\", FutureWarning)\n",
      "/opt/conda/lib/python3.7/site-packages/sklearn/ensemble/forest.py:245: FutureWarning: The default value of n_estimators will change from 10 in version 0.20 to 100 in 0.22.\n",
      "  \"10 in version 0.20 to 100 in 0.22.\", FutureWarning)\n",
      "/opt/conda/lib/python3.7/site-packages/sklearn/ensemble/forest.py:245: FutureWarning: The default value of n_estimators will change from 10 in version 0.20 to 100 in 0.22.\n",
      "  \"10 in version 0.20 to 100 in 0.22.\", FutureWarning)\n",
      "/opt/conda/lib/python3.7/site-packages/sklearn/ensemble/forest.py:245: FutureWarning: The default value of n_estimators will change from 10 in version 0.20 to 100 in 0.22.\n",
      "  \"10 in version 0.20 to 100 in 0.22.\", FutureWarning)\n",
      "/opt/conda/lib/python3.7/site-packages/sklearn/ensemble/forest.py:245: FutureWarning: The default value of n_estimators will change from 10 in version 0.20 to 100 in 0.22.\n",
      "  \"10 in version 0.20 to 100 in 0.22.\", FutureWarning)\n"
     ]
    },
    {
     "name": "stdout",
     "output_type": "stream",
     "text": [
      "[0.75581395 0.80232558 0.72093023 0.61089494 0.67578125]\n",
      "[0.87209302 0.89534884 0.87984496 0.83657588 0.8515625 ]\n"
     ]
    },
    {
     "name": "stderr",
     "output_type": "stream",
     "text": [
      "/opt/conda/lib/python3.7/site-packages/sklearn/ensemble/forest.py:245: FutureWarning: The default value of n_estimators will change from 10 in version 0.20 to 100 in 0.22.\n",
      "  \"10 in version 0.20 to 100 in 0.22.\", FutureWarning)\n",
      "/opt/conda/lib/python3.7/site-packages/sklearn/ensemble/forest.py:245: FutureWarning: The default value of n_estimators will change from 10 in version 0.20 to 100 in 0.22.\n",
      "  \"10 in version 0.20 to 100 in 0.22.\", FutureWarning)\n",
      "/opt/conda/lib/python3.7/site-packages/sklearn/ensemble/forest.py:245: FutureWarning: The default value of n_estimators will change from 10 in version 0.20 to 100 in 0.22.\n",
      "  \"10 in version 0.20 to 100 in 0.22.\", FutureWarning)\n",
      "/opt/conda/lib/python3.7/site-packages/sklearn/ensemble/forest.py:245: FutureWarning: The default value of n_estimators will change from 10 in version 0.20 to 100 in 0.22.\n",
      "  \"10 in version 0.20 to 100 in 0.22.\", FutureWarning)\n",
      "/opt/conda/lib/python3.7/site-packages/sklearn/ensemble/forest.py:245: FutureWarning: The default value of n_estimators will change from 10 in version 0.20 to 100 in 0.22.\n",
      "  \"10 in version 0.20 to 100 in 0.22.\", FutureWarning)\n"
     ]
    },
    {
     "name": "stdout",
     "output_type": "stream",
     "text": [
      "[0.76744186 0.78682171 0.72093023 0.61867704 0.671875  ]\n",
      "[0.86434109 0.90310078 0.8875969  0.84046693 0.8515625 ]\n"
     ]
    },
    {
     "name": "stderr",
     "output_type": "stream",
     "text": [
      "/opt/conda/lib/python3.7/site-packages/sklearn/ensemble/forest.py:245: FutureWarning: The default value of n_estimators will change from 10 in version 0.20 to 100 in 0.22.\n",
      "  \"10 in version 0.20 to 100 in 0.22.\", FutureWarning)\n",
      "/opt/conda/lib/python3.7/site-packages/sklearn/ensemble/forest.py:245: FutureWarning: The default value of n_estimators will change from 10 in version 0.20 to 100 in 0.22.\n",
      "  \"10 in version 0.20 to 100 in 0.22.\", FutureWarning)\n",
      "/opt/conda/lib/python3.7/site-packages/sklearn/ensemble/forest.py:245: FutureWarning: The default value of n_estimators will change from 10 in version 0.20 to 100 in 0.22.\n",
      "  \"10 in version 0.20 to 100 in 0.22.\", FutureWarning)\n",
      "/opt/conda/lib/python3.7/site-packages/sklearn/ensemble/forest.py:245: FutureWarning: The default value of n_estimators will change from 10 in version 0.20 to 100 in 0.22.\n",
      "  \"10 in version 0.20 to 100 in 0.22.\", FutureWarning)\n",
      "/opt/conda/lib/python3.7/site-packages/sklearn/ensemble/forest.py:245: FutureWarning: The default value of n_estimators will change from 10 in version 0.20 to 100 in 0.22.\n",
      "  \"10 in version 0.20 to 100 in 0.22.\", FutureWarning)\n"
     ]
    },
    {
     "name": "stdout",
     "output_type": "stream",
     "text": [
      "[0.75968992 0.79457364 0.72093023 0.62256809 0.66796875]\n",
      "[0.85271318 0.87984496 0.87984496 0.82879377 0.84375   ]\n"
     ]
    },
    {
     "name": "stderr",
     "output_type": "stream",
     "text": [
      "/opt/conda/lib/python3.7/site-packages/sklearn/ensemble/forest.py:245: FutureWarning: The default value of n_estimators will change from 10 in version 0.20 to 100 in 0.22.\n",
      "  \"10 in version 0.20 to 100 in 0.22.\", FutureWarning)\n",
      "/opt/conda/lib/python3.7/site-packages/sklearn/ensemble/forest.py:245: FutureWarning: The default value of n_estimators will change from 10 in version 0.20 to 100 in 0.22.\n",
      "  \"10 in version 0.20 to 100 in 0.22.\", FutureWarning)\n",
      "/opt/conda/lib/python3.7/site-packages/sklearn/ensemble/forest.py:245: FutureWarning: The default value of n_estimators will change from 10 in version 0.20 to 100 in 0.22.\n",
      "  \"10 in version 0.20 to 100 in 0.22.\", FutureWarning)\n",
      "/opt/conda/lib/python3.7/site-packages/sklearn/ensemble/forest.py:245: FutureWarning: The default value of n_estimators will change from 10 in version 0.20 to 100 in 0.22.\n",
      "  \"10 in version 0.20 to 100 in 0.22.\", FutureWarning)\n",
      "/opt/conda/lib/python3.7/site-packages/sklearn/ensemble/forest.py:245: FutureWarning: The default value of n_estimators will change from 10 in version 0.20 to 100 in 0.22.\n",
      "  \"10 in version 0.20 to 100 in 0.22.\", FutureWarning)\n"
     ]
    },
    {
     "name": "stdout",
     "output_type": "stream",
     "text": [
      "[0.76356589 0.78682171 0.72093023 0.61867704 0.66796875]\n",
      "[0.8255814  0.89147287 0.8875969  0.79766537 0.8203125 ]\n"
     ]
    },
    {
     "name": "stderr",
     "output_type": "stream",
     "text": [
      "/opt/conda/lib/python3.7/site-packages/sklearn/ensemble/forest.py:245: FutureWarning: The default value of n_estimators will change from 10 in version 0.20 to 100 in 0.22.\n",
      "  \"10 in version 0.20 to 100 in 0.22.\", FutureWarning)\n",
      "/opt/conda/lib/python3.7/site-packages/sklearn/ensemble/forest.py:245: FutureWarning: The default value of n_estimators will change from 10 in version 0.20 to 100 in 0.22.\n",
      "  \"10 in version 0.20 to 100 in 0.22.\", FutureWarning)\n",
      "/opt/conda/lib/python3.7/site-packages/sklearn/ensemble/forest.py:245: FutureWarning: The default value of n_estimators will change from 10 in version 0.20 to 100 in 0.22.\n",
      "  \"10 in version 0.20 to 100 in 0.22.\", FutureWarning)\n",
      "/opt/conda/lib/python3.7/site-packages/sklearn/ensemble/forest.py:245: FutureWarning: The default value of n_estimators will change from 10 in version 0.20 to 100 in 0.22.\n",
      "  \"10 in version 0.20 to 100 in 0.22.\", FutureWarning)\n",
      "/opt/conda/lib/python3.7/site-packages/sklearn/ensemble/forest.py:245: FutureWarning: The default value of n_estimators will change from 10 in version 0.20 to 100 in 0.22.\n",
      "  \"10 in version 0.20 to 100 in 0.22.\", FutureWarning)\n"
     ]
    },
    {
     "name": "stdout",
     "output_type": "stream",
     "text": [
      "[0.76356589 0.78294574 0.71705426 0.61867704 0.671875  ]\n",
      "[0.86046512 0.87984496 0.89534884 0.84046693 0.84375   ]\n",
      "[0.77131783 0.77906977 0.72093023 0.60700389 0.671875  ]\n",
      "[0.87596899 0.8875969  0.8875969  0.84435798 0.859375  ]\n"
     ]
    },
    {
     "name": "stderr",
     "output_type": "stream",
     "text": [
      "/opt/conda/lib/python3.7/site-packages/sklearn/ensemble/forest.py:245: FutureWarning: The default value of n_estimators will change from 10 in version 0.20 to 100 in 0.22.\n",
      "  \"10 in version 0.20 to 100 in 0.22.\", FutureWarning)\n",
      "/opt/conda/lib/python3.7/site-packages/sklearn/ensemble/forest.py:245: FutureWarning: The default value of n_estimators will change from 10 in version 0.20 to 100 in 0.22.\n",
      "  \"10 in version 0.20 to 100 in 0.22.\", FutureWarning)\n",
      "/opt/conda/lib/python3.7/site-packages/sklearn/ensemble/forest.py:245: FutureWarning: The default value of n_estimators will change from 10 in version 0.20 to 100 in 0.22.\n",
      "  \"10 in version 0.20 to 100 in 0.22.\", FutureWarning)\n",
      "/opt/conda/lib/python3.7/site-packages/sklearn/ensemble/forest.py:245: FutureWarning: The default value of n_estimators will change from 10 in version 0.20 to 100 in 0.22.\n",
      "  \"10 in version 0.20 to 100 in 0.22.\", FutureWarning)\n",
      "/opt/conda/lib/python3.7/site-packages/sklearn/ensemble/forest.py:245: FutureWarning: The default value of n_estimators will change from 10 in version 0.20 to 100 in 0.22.\n",
      "  \"10 in version 0.20 to 100 in 0.22.\", FutureWarning)\n"
     ]
    },
    {
     "data": {
      "text/plain": [
       "{1: [0.7108477645311133, 0.04771117450548513],\n",
       " 3: [0.7193809289506229, 0.05059204889763897],\n",
       " 5: [0.7263849378261394, 0.051414819448388854],\n",
       " 7: [0.7255582780970048, 0.06292466238076869],\n",
       " 9: [0.724798260149911, 0.0621564675695584],\n",
       " 11: [0.727908037168582, 0.05451797535498234],\n",
       " 13: [0.7240230192214883, 0.0573285021896912],\n",
       " 15: [0.7209253074759449, 0.05854793414507411],\n",
       " 17: [0.7154777895288511, 0.06249191022067417],\n",
       " 19: [0.711601820536603, 0.06156996663782748],\n",
       " 21: [0.7131491918152204, 0.06585673799664936],\n",
       " 23: [0.7131491682502338, 0.06174856042890418],\n",
       " 25: [0.7131461283669653, 0.06181057060413398],\n",
       " 27: [0.7115927244517841, 0.06161846114567729],\n",
       " 29: [0.7108235868548849, 0.060050236448469775],\n",
       " 31: [0.7100393441015896, 0.06436099022162188]}"
      ]
     },
     "execution_count": 34,
     "metadata": {},
     "output_type": "execute_result"
    }
   ],
   "source": [
    "dic_train = {}\n",
    "dic_test = {}\n",
    "score_dic_train = {}\n",
    "score_dic_test = {}\n",
    "\n",
    "score_cv = {}\n",
    "score_cv_rf = {}\n",
    "num_neighbors = -1\n",
    "while num_neighbors < 30:\n",
    "    num_neighbors = num_neighbors + 2\n",
    "    score_list_train = []\n",
    "    score_list_test = []\n",
    "    \n",
    "    \n",
    "    neigh = KNeighborsClassifier(n_neighbors = num_neighbors)\n",
    "    #neigh.fit(x_train, y_train) \n",
    "    rf_clf = RandomForestClassifier(max_depth = num_neighbors)\n",
    "    \n",
    "    cv_scores = cross_val_score(neigh, x, y['States'].values, cv=5, scoring = 'accuracy')\n",
    "    cv_scores_rf = cross_val_score(rf_clf, x, y['States'].values, cv=5, scoring = 'accuracy')\n",
    "\n",
    "    #print each cv score (accuracy) and average them\n",
    "    print(cv_scores)\n",
    "    ave_score = (np.mean(cv_scores))\n",
    "    score_cv[num_neighbors] = [ave_score, np.std(cv_scores)]\n",
    "    \n",
    "    \n",
    "    print(cv_scores_rf)\n",
    "    ave_score_rf = (np.mean(cv_scores_rf))\n",
    "    score_cv_rf[num_neighbors] = [ave_score_rf, np.std(cv_scores_rf)]\n",
    "    \n",
    "    #score_list_train.append(neigh.score(x_train,y_train))\n",
    "    #score_list_test.append(neigh.score(X_val, y_val))\n",
    "    \n",
    "    #score_dic_train[num_neighbors] = score_list_train\n",
    "    #score_dic_test[num_neighbors] = score_list_test\n",
    "#score_df_train = pd.DataFrame.from_dict(score_dic_train)\n",
    "#score_df_test = pd.DataFrame.from_dict(score_dic_test)\n",
    "score_cv"
   ]
  },
  {
   "cell_type": "code",
   "execution_count": 35,
   "metadata": {},
   "outputs": [
    {
     "data": {
      "text/plain": [
       "{1: [0.48250818176333965, 0.009717018733154585],\n",
       " 3: [0.825905979473954, 0.0330974807882699],\n",
       " 5: [0.8554541161433356, 0.0235950000420444],\n",
       " 7: [0.8639781609130395, 0.02330817974501825],\n",
       " 9: [0.8670941355231804, 0.02238848406442711],\n",
       " 11: [0.8686838530826773, 0.020467533966316474],\n",
       " 13: [0.87338035490755, 0.01842436676613972],\n",
       " 15: [0.8678843873480531, 0.014947480611448077],\n",
       " 17: [0.8600448583084488, 0.0490938402894342],\n",
       " 19: [0.8515721145145235, 0.018760395849126407],\n",
       " 21: [0.8670850394383617, 0.02077737272327107],\n",
       " 23: [0.8694136371519925, 0.023011997965060732],\n",
       " 25: [0.856989375018852, 0.020165884315790878],\n",
       " 27: [0.8445258064881006, 0.037947914566395],\n",
       " 29: [0.8639751681597442, 0.021024617853812842],\n",
       " 31: [0.8709791534702742, 0.01685550872453288]}"
      ]
     },
     "execution_count": 35,
     "metadata": {},
     "output_type": "execute_result"
    }
   ],
   "source": [
    "score_cv_rf"
   ]
  },
  {
   "cell_type": "code",
   "execution_count": 36,
   "metadata": {},
   "outputs": [
    {
     "data": {
      "text/plain": [
       "{1: [0.7108477645311133, 0.04771117450548513],\n",
       " 3: [0.7193809289506229, 0.05059204889763897],\n",
       " 5: [0.7263849378261394, 0.051414819448388854],\n",
       " 7: [0.7255582780970048, 0.06292466238076869],\n",
       " 9: [0.724798260149911, 0.0621564675695584],\n",
       " 11: [0.727908037168582, 0.05451797535498234],\n",
       " 13: [0.7240230192214883, 0.0573285021896912],\n",
       " 15: [0.7209253074759449, 0.05854793414507411],\n",
       " 17: [0.7154777895288511, 0.06249191022067417],\n",
       " 19: [0.711601820536603, 0.06156996663782748],\n",
       " 21: [0.7131491918152204, 0.06585673799664936],\n",
       " 23: [0.7131491682502338, 0.06174856042890418],\n",
       " 25: [0.7131461283669653, 0.06181057060413398],\n",
       " 27: [0.7115927244517841, 0.06161846114567729],\n",
       " 29: [0.7108235868548849, 0.060050236448469775],\n",
       " 31: [0.7100393441015896, 0.06436099022162188]}"
      ]
     },
     "execution_count": 36,
     "metadata": {},
     "output_type": "execute_result"
    }
   ],
   "source": [
    "score_cv"
   ]
  },
  {
   "cell_type": "code",
   "execution_count": 39,
   "metadata": {},
   "outputs": [],
   "source": [
    "k_list = []\n",
    "mean_list = []\n",
    "sd_list = []\n",
    "uper_list = []\n",
    "lower_list = []\n",
    "for k in score_cv:\n",
    "    k_list.append(k)\n",
    "    mean_list.append(score_cv[k][0])\n",
    "    uper_list.append(score_cv[k][0] + score_cv[k][1] )\n",
    "    lower_list.append(score_cv[k][0] - score_cv[k][1] )\n",
    "    #sd_list.append(score_cv[k][1])"
   ]
  },
  {
   "cell_type": "code",
   "execution_count": 40,
   "metadata": {},
   "outputs": [
    {
     "data": {
      "text/plain": [
       "[]"
      ]
     },
     "execution_count": 40,
     "metadata": {},
     "output_type": "execute_result"
    }
   ],
   "source": [
    "sd_list"
   ]
  },
  {
   "cell_type": "code",
   "execution_count": 16,
   "metadata": {},
   "outputs": [
    {
     "data": {
      "image/png": "[encoded data removed]",
      "text/plain": [
       "<Figure size 288x288 with 1 Axes>"
      ]
     },
     "metadata": {
      "needs_background": "light"
     },
     "output_type": "display_data"
    }
   ],
   "source": [
    "import matplotlib.pyplot as plt\n",
    "\n",
    "fig, ax = plt.subplots(figsize=(4, 4))\n",
    "\n",
    "#plt.plot(range(0,100), score_df_train, 'grey')\n",
    "\n",
    "plt.plot(k_list, mean_list, 'black','o')\n",
    "plt.plot(k_list, lower_list, 'grey', linestyle='dashed')\n",
    "plt.plot(k_list, uper_list, 'grey', linestyle='dashed')\n",
    "plt.axis([0, 30, 0.6, 0.8])\n",
    "\n",
    "plt.xlabel(\"K\")\n",
    "plt.ylabel(\"Accuracy\")\n",
    "#plt.plot(range(0,12), score_list_test, 'red')\n",
    "plt.tight_layout()\n",
    "plt.savefig(output_dir+'/AUC_for_K.png', dpi=300)\n",
    "plt.show()"
   ]
  },
  {
   "cell_type": "code",
   "execution_count": 17,
   "metadata": {},
   "outputs": [
    {
     "data": {
      "text/plain": [
       "{1: [0.7108477645311133, 0.04771117450548513],\n",
       " 3: [0.7193809289506229, 0.05059204889763897],\n",
       " 5: [0.7263849378261394, 0.051414819448388854],\n",
       " 7: [0.7255582780970048, 0.06292466238076869],\n",
       " 9: [0.724798260149911, 0.0621564675695584],\n",
       " 11: [0.727908037168582, 0.05451797535498234],\n",
       " 13: [0.7240230192214883, 0.0573285021896912],\n",
       " 15: [0.7209253074759449, 0.05854793414507411],\n",
       " 17: [0.7154777895288511, 0.06249191022067417],\n",
       " 19: [0.711601820536603, 0.06156996663782748],\n",
       " 21: [0.7131491918152204, 0.06585673799664936],\n",
       " 23: [0.7131491682502338, 0.06174856042890418],\n",
       " 25: [0.7131461283669653, 0.06181057060413398],\n",
       " 27: [0.7115927244517841, 0.06161846114567729],\n",
       " 29: [0.7108235868548849, 0.060050236448469775],\n",
       " 31: [0.7100393441015896, 0.06436099022162188]}"
      ]
     },
     "execution_count": 17,
     "metadata": {},
     "output_type": "execute_result"
    }
   ],
   "source": [
    "score_cv"
   ]
  },
  {
   "cell_type": "code",
   "execution_count": null,
   "metadata": {},
   "outputs": [],
   "source": []
  }
 ],
 "metadata": {
  "kernelspec": {
   "display_name": "Python 3",
   "language": "python",
   "name": "python3"
  },
  "language_info": {
   "codemirror_mode": {
    "name": "ipython",
    "version": 3
   },
   "file_extension": ".py",
   "mimetype": "text/x-python",
   "name": "python",
   "nbconvert_exporter": "python",
   "pygments_lexer": "ipython3",
   "version": "3.7.3"
  }
 },
 "nbformat": 4,
 "nbformat_minor": 2
}
