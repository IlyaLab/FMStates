{
 "cells": [
  {
   "cell_type": "code",
   "execution_count": null,
   "metadata": {},
   "outputs": [],
   "source": [
    "import os\n",
    "import sys\n",
    "import pandas as pd\n",
    "import numpy as np\n",
    "import matplotlib.pyplot as plt\n",
    "import seaborn as sns\n",
    "import rpy2.robjects as ro\n",
    "import rpy2.robjects.numpy2ri\n",
    "rpy2.robjects.numpy2ri.activate()\n",
    "import scipy \n",
    "import scipy.stats as ss\n",
    "import statsmodels\n",
    "from statsmodels import stats\n",
    "from statsmodels.stats import multitest\n",
    "sys.path.append('../Script/')\n",
    "import FM_States\n",
    "import FM_selection\n",
    "import TF\n",
    "#from FM_States import *\n",
    "import rpy2\n",
    "from rpy2.robjects.packages import importr\n",
    "from sklearn.neighbors import KNeighborsClassifier\n",
    "import random\n",
    "\n",
    "base = importr('base')\n",
    "CC = importr('ConsensusClusterPlus')\n",
    "pheatmap = importr('pheatmap')\n",
    "\n",
    "ROOT_DIR = os.path.abspath(\"../\")"
   ]
  },
  {
   "cell_type": "code",
   "execution_count": null,
   "metadata": {},
   "outputs": [],
   "source": [
    "para = {\n",
    "    'output_dir': ROOT_DIR+\"/Sample_output/Example2/\",\n",
    "    'input_fmf_file_drug': ROOT_DIR +  \"/Sample_output/Example1/matrix_factor_mcf7.csv\",\n",
    "    'input_fmf_file_sh':ROOT_DIR + \"/Sample_output/Example2/matrix_factor_sh_mcf7.csv\",\n",
    "    'annotation_col':ROOT_DIR + \"/Sample_output/Example1/annotation_col.csv\",\n",
    "    'selected_factor':ROOT_DIR +\"/Sample_output/Example1/Features_diff_all.csv\",\n",
    "    'meta':ROOT_DIR + '/Sample_input/Example2/MetaData_sig_info_sh_MCF7_96h.csv',\n",
    "    \n",
    "}"
   ]
  },
  {
   "cell_type": "code",
   "execution_count": null,
   "metadata": {},
   "outputs": [],
   "source": [
    "output_dir = para['output_dir']\n",
    "try:\n",
    "    os.makedirs(output_dir)\n",
    "except OSError:\n",
    "    print (\"Info: Creation of the directory failed!\\nThe direcory of %s may already exsit!\" % output_dir)\n",
    "else:\n",
    "    print (\"Successfully created the directory %s \" % output_dir)\n",
    "    "
   ]
  },
  {
   "cell_type": "code",
   "execution_count": null,
   "metadata": {},
   "outputs": [],
   "source": [
    "matrix_factor_sh_MCF7 = pd.read_csv(para['input_fmf_file_sh'], index_col = 'Unnamed: 0')\n",
    "matrix_factor = pd.read_csv(para['input_fmf_file_drug'], index_col = 'Unnamed: 0')\n",
    "annotation_col_1 = pd.read_csv(para['annotation_col'], index_col= 'Unnamed: 0')\n",
    "colors = ['red','pink','#fdd5ac','#8895df', 'cyan'] #Define the colors for cluster annotation\n",
    "output_dir = para['output_dir']\n",
    "select_modules =pd.read_csv(para['selected_factor'],index_col= 'Unnamed: 0')\n",
    "meta_sh = pd.read_csv(para['meta'])  ## Annotation data for shRNA\n",
    "meta_sh.index = meta_sh['sig_id']"
   ]
  },
  {
   "cell_type": "code",
   "execution_count": null,
   "metadata": {},
   "outputs": [],
   "source": [
    "select_modules"
   ]
  },
  {
   "cell_type": "code",
   "execution_count": null,
   "metadata": {},
   "outputs": [],
   "source": [
    "from sklearn.neighbors import KNeighborsClassifier\n",
    "import random\n",
    "y = annotation_col_1.loc[list(matrix_factor.index.values)]  ## use the states after drug treatment as labels;\n",
    "x = matrix_factor[list(select_modules)].values              ## use the states after drug treatment as training set;\n",
    "y_test = matrix_factor_sh_MCF7[list(select_modules)]        ## use the FM-factors after shRNA knockdown as the testing set;"
   ]
  },
  {
   "cell_type": "code",
   "execution_count": null,
   "metadata": {},
   "outputs": [],
   "source": [
    "#from sklearn.neighbors import KNeighborsClassifier\n",
    "#import random\n",
    "#y = annotation_col_1.loc[list(matrix_factor.index.values)]  ## use the states after drug treatment as labels;\n",
    "#x = matrix_factor.values              ## use the states after drug treatment as training set;\n",
    "#y_test = matrix_factor_sh_MCF7       ## use the FM-factors after shRNA knockdown as the testing set;"
   ]
  },
  {
   "cell_type": "code",
   "execution_count": null,
   "metadata": {},
   "outputs": [],
   "source": [
    "from sklearn.model_selection import train_test_split\n",
    "from sklearn.model_selection import cross_val_score\n",
    "from sklearn.ensemble import RandomForestClassifier\n",
    "import numpy as np\n",
    "\n",
    "#split dataset into train and test data\n",
    "x_train, X_val, y_train, y_val = train_test_split(x, y, test_size=0.2, random_state=25223, stratify=y)"
   ]
  },
  {
   "cell_type": "code",
   "execution_count": null,
   "metadata": {},
   "outputs": [],
   "source": [
    "dic_train = {}\n",
    "dic_test = {}\n",
    "score_dic_train = {}\n",
    "score_dic_test = {}\n",
    "\n",
    "score_cv = {}\n",
    "score_cv_rf = {}\n",
    "num_neighbors = -1\n",
    "while num_neighbors < 30:\n",
    "    num_neighbors = num_neighbors + 2\n",
    "    score_list_train = []\n",
    "    score_list_test = []\n",
    "    \n",
    "    \n",
    "    neigh = KNeighborsClassifier(n_neighbors = num_neighbors)\n",
    "    #neigh.fit(x_train, y_train) \n",
    "    rf_clf = RandomForestClassifier(max_depth = num_neighbors)\n",
    "    \n",
    "    cv_scores = cross_val_score(neigh, x, y['States'].values, cv=5, scoring = 'accuracy')\n",
    "    cv_scores_rf = cross_val_score(rf_clf, x, y['States'].values, cv=5, scoring = 'accuracy')\n",
    "\n",
    "    #print each cv score (accuracy) and average them\n",
    "    print(cv_scores)\n",
    "    ave_score = (np.mean(cv_scores))\n",
    "    score_cv[num_neighbors] = [ave_score, np.std(cv_scores)]\n",
    "    \n",
    "    \n",
    "    print(cv_scores_rf)\n",
    "    ave_score_rf = (np.mean(cv_scores_rf))\n",
    "    score_cv_rf[num_neighbors] = [ave_score_rf, np.std(cv_scores_rf)]\n",
    "    \n",
    "    #score_list_train.append(neigh.score(x_train,y_train))\n",
    "    #score_list_test.append(neigh.score(X_val, y_val))\n",
    "    \n",
    "    #score_dic_train[num_neighbors] = score_list_train\n",
    "    #score_dic_test[num_neighbors] = score_list_test\n",
    "#score_df_train = pd.DataFrame.from_dict(score_dic_train)\n",
    "#score_df_test = pd.DataFrame.from_dict(score_dic_test)\n",
    "score_cv"
   ]
  },
  {
   "cell_type": "code",
   "execution_count": null,
   "metadata": {},
   "outputs": [],
   "source": [
    "score_cv_rf"
   ]
  },
  {
   "cell_type": "code",
   "execution_count": null,
   "metadata": {},
   "outputs": [],
   "source": [
    "score_cv"
   ]
  },
  {
   "cell_type": "code",
   "execution_count": null,
   "metadata": {},
   "outputs": [],
   "source": [
    "k_list = []\n",
    "mean_list = []\n",
    "sd_list = []\n",
    "uper_list = []\n",
    "lower_list = []\n",
    "for k in score_cv:\n",
    "    k_list.append(k)\n",
    "    mean_list.append(score_cv[k][0])\n",
    "    uper_list.append(score_cv[k][0] + score_cv[k][1] )\n",
    "    lower_list.append(score_cv[k][0] - score_cv[k][1] )\n",
    "    #sd_list.append(score_cv[k][1])"
   ]
  },
  {
   "cell_type": "code",
   "execution_count": null,
   "metadata": {},
   "outputs": [],
   "source": [
    "sd_list"
   ]
  },
  {
   "cell_type": "code",
   "execution_count": null,
   "metadata": {},
   "outputs": [],
   "source": [
    "import matplotlib.pyplot as plt\n",
    "\n",
    "fig, ax = plt.subplots(figsize=(4, 4))\n",
    "\n",
    "#plt.plot(range(0,100), score_df_train, 'grey')\n",
    "\n",
    "plt.plot(k_list, mean_list, 'black','o')\n",
    "plt.plot(k_list, lower_list, 'grey', linestyle='dashed')\n",
    "plt.plot(k_list, uper_list, 'grey', linestyle='dashed')\n",
    "plt.axis([0, 30, 0.6, 0.8])\n",
    "\n",
    "plt.xlabel(\"K\")\n",
    "plt.ylabel(\"Accuracy\")\n",
    "#plt.plot(range(0,12), score_list_test, 'red')\n",
    "plt.tight_layout()\n",
    "plt.savefig(output_dir+'/AUC_for_K.png', dpi=300)\n",
    "plt.show()"
   ]
  },
  {
   "cell_type": "code",
   "execution_count": null,
   "metadata": {},
   "outputs": [],
   "source": [
    "score_cv"
   ]
  },
  {
   "cell_type": "code",
   "execution_count": null,
   "metadata": {},
   "outputs": [],
   "source": []
  }
 ],
 "metadata": {
  "kernelspec": {
   "display_name": "Python 3 (ipykernel)",
   "language": "python",
   "name": "python3"
  },
  "language_info": {
   "codemirror_mode": {
    "name": "ipython",
    "version": 3
   },
   "file_extension": ".py",
   "mimetype": "text/x-python",
   "name": "python",
   "nbconvert_exporter": "python",
   "pygments_lexer": "ipython3",
   "version": "3.9.7"
  }
 },
 "nbformat": 4,
 "nbformat_minor": 2
}
