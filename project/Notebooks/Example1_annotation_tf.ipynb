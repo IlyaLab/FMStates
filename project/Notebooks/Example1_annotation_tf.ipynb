{
 "cells": [
  {
   "cell_type": "markdown",
   "metadata": {},
   "source": [
    "#### This jupyter notebook is used to annotate each state identified from Example1-comparing-clustering-annotation.ipynb using the transcriptional regulation networks."
   ]
  },
  {
   "cell_type": "markdown",
   "metadata": {},
   "source": [
    "#### Load libraries"
   ]
  },
  {
   "cell_type": "code",
   "execution_count": 1,
   "metadata": {},
   "outputs": [],
   "source": [
    "import os\n",
    "import pandas as pd\n",
    "import numpy as np\n",
    "import matplotlib.pyplot as plt\n",
    "import seaborn as sns\n",
    "import rpy2.robjects as ro\n",
    "import rpy2.robjects.numpy2ri\n",
    "rpy2.robjects.numpy2ri.activate()\n",
    "import scipy \n",
    "import scipy.stats as ss\n",
    "import statsmodels\n",
    "import sys\n",
    "from statsmodels import stats\n",
    "from statsmodels.stats import multitest\n",
    "sys.path.append('../Script/')\n",
    "import FM_States\n",
    "import FM_selection\n",
    "import TF\n",
    "import rpy2\n",
    "from rpy2.robjects.packages import importr\n",
    "\n",
    "base = importr('base')\n",
    "CC = importr('ConsensusClusterPlus')\n",
    "pheatmap = importr('pheatmap')\n",
    "\n",
    "ROOT_DIR = os.path.abspath(\"../\")"
   ]
  },
  {
   "cell_type": "markdown",
   "metadata": {},
   "source": [
    "#### Load parameters"
   ]
  },
  {
   "cell_type": "code",
   "execution_count": 2,
   "metadata": {},
   "outputs": [],
   "source": [
    "para = {\n",
    "    'output_dir': ROOT_DIR+\"/Sample_output/Example1/\",\n",
    "    'input_expr_file': os.path.join(ROOT_DIR, \"Sample_input/Example1/Sample1_data_MCF7_drugs_CTRP2.csv\"),\n",
    "    'sele_modules': ['Translation',\n",
    "         'Nucleotide metabolism',\n",
    "         'Signal transduction',\n",
    "         'Amino acid metabolism',\n",
    "         'Folding sorting and degradation',\n",
    "         'Replication and repair',\n",
    "         'Carbohydrate metabolism',\n",
    "         'Membrane transport',\n",
    "         'Cellular community - eukaryotes',\n",
    "         'Lipid metabolism',\n",
    "         'Metabolism of other amino acids',\n",
    "         'Transcription',\n",
    "         'Xenobiotics biodegradation and metabolism',\n",
    "         'Signaling molecules and interaction',\n",
    "         'Energy metabolism',\n",
    "         'Transport and catabolism',\n",
    "         'Glycan biosynthesis and metabolism',\n",
    "         'Metabolism of cofactors and vitamins',\n",
    "         'Cell motility',\n",
    "         'Cell cycle', \n",
    "         'Apoptosis', \n",
    "         'Cellular senescence', \n",
    "         'p53 signaling pathway']\n",
    "}"
   ]
  },
  {
   "cell_type": "markdown",
   "metadata": {},
   "source": [
    "#### Load all the input files including: selecting the functional modules; import the gene expression profiles; "
   ]
  },
  {
   "cell_type": "code",
   "execution_count": 5,
   "metadata": {},
   "outputs": [],
   "source": [
    "#dic_module, KEGG_level2, KEGG_level3, KEGG_modules = FM_States.load_function_modules(\"KEGG\")\n",
    "File_FM = os.path.join(ROOT_DIR,\"Dataset/Sample_FM.csv\") #Users can also define their own modules\n",
    "dic_module,  KEGG_modules = FM_States.load_function_modules(File_FM)\n",
    "\n",
    "module_selected_gmt = KEGG_modules.loc[KEGG_modules['name'].isin(para['sele_modules']) ]\n",
    "output_dir = para['output_dir']\n",
    "data_matrix_MCF7_CTRP2 = pd.read_csv(para['input_expr_file'], index_col = 'Unnamed: 0')\n",
    "Features =pd.read_csv(output_dir+\"/Features.csv\")\n",
    "annotation_col_1 = pd.read_csv(output_dir+\"/annotation_col.csv\", index_col= 'Unnamed: 0')"
   ]
  },
  {
   "cell_type": "code",
   "execution_count": null,
   "metadata": {},
   "outputs": [],
   "source": [
    "TF_active = TF.get_tfpairs_for_select_pathways_directed(data_matrix_MCF7_CTRP2,para['sele_modules'],dic_module, active = True)\n",
    "TF_suppress = TF.get_tfpairs_for_select_pathways_directed(data_matrix_MCF7_CTRP2,para['sele_modules'],dic_module, active = False)"
   ]
  },
  {
   "cell_type": "code",
   "execution_count": null,
   "metadata": {},
   "outputs": [],
   "source": [
    "data_matrix_MCF7_CTRP2 = pd.read_csv(os.path.join(ROOT_DIR, \"Sample_input/Example1/Sample1_data_MCF7_drugs_CTRP2.csv\"))\n",
    "data_matrix_MCF7_CTRP2 = data_matrix_MCF7_CTRP2.set_index('Unnamed: 0')"
   ]
  },
  {
   "cell_type": "code",
   "execution_count": null,
   "metadata": {},
   "outputs": [],
   "source": [
    "TF_path_interaction_active = TF.TF_annotation(Features, TF_active, data_matrix_MCF7_CTRP2, annotation_col_1, output_dir, active = True)\n",
    "TF_path_interaction_suppression = TF.TF_annotation(Features, TF_suppress, data_matrix_MCF7_CTRP2,annotation_col_1, output_dir, active = False)\n",
    "TF_path_interaction_active['Action'] = ['Active']*TF_path_interaction_active.shape[0]\n",
    "TF_path_interaction_suppression['Action'] = ['Supress']*TF_path_interaction_suppression.shape[0]\n",
    "TF_interaction_all = pd.concat([TF_path_interaction_active,TF_path_interaction_suppression],axis = 0)\n",
    "TF_interaction_all.to_csv(output_dir + \"TF_path_all.csv\")"
   ]
  },
  {
   "cell_type": "markdown",
   "metadata": {},
   "source": [
    "#### The interactions between TF and path can be visulized using cytoscape."
   ]
  },
  {
   "cell_type": "code",
   "execution_count": null,
   "metadata": {},
   "outputs": [],
   "source": [
    "def plot_gene_expr(data_matrix_MCF7_CTRP2, annotation_col_1, Gene):\n",
    "    from scipy.stats import f_oneway\n",
    "\n",
    "    x5 = list(data_matrix_MCF7_CTRP2.loc[annotation_col_1.loc[annotation_col_1['States'] == 'S5'].index,[Gene]][Gene].values)\n",
    "    x4 = list(data_matrix_MCF7_CTRP2.loc[annotation_col_1.loc[annotation_col_1['States'] == 'S4'].index,[Gene]][Gene].values)\n",
    "    x3 = list(data_matrix_MCF7_CTRP2.loc[annotation_col_1.loc[annotation_col_1['States'] == 'S3'].index,[Gene]][Gene].values)\n",
    "    x2 = list(data_matrix_MCF7_CTRP2.loc[annotation_col_1.loc[annotation_col_1['States'] == 'S2'].index,[Gene]][Gene].values)\n",
    "    x1 = list(data_matrix_MCF7_CTRP2.loc[annotation_col_1.loc[annotation_col_1['States'] == 'S1'].index,[Gene]][Gene].values)\n",
    "    F, p = f_oneway(x5, x4, x3, x2, x1)\n",
    "    \n",
    "    tf_expr =  pd.DataFrame({'Exp':x1+x2+x3+x4+x5, \n",
    "                             'State': ['S1']*len(x1) +['S2']*len(x2) + ['S3'] * len(x3) + ['S4']*len(x4) + ['S5']*len(x5)})\n",
    "    plt.figure(figsize=(3,3), dpi= 300 )\n",
    "    import seaborn as sns\n",
    "    ax = sns.violinplot(x=\"State\", y=\"Exp\", data=tf_expr)\n",
    "    plt.legend(labels=[Gene])\n",
    "    return(p)"
   ]
  },
  {
   "cell_type": "code",
   "execution_count": null,
   "metadata": {},
   "outputs": [],
   "source": [
    "genelist = ['JUN','ETS1','SPI1','SOX2','PPARA','ESR1','TP53','REL','MYC','MYCN',\n",
    "            'FOXO1','FOXM1','E2F1','TFAP2A','TFDP1','NR2C2','PPARA','FOXL2',\n",
    "            'SREBF2','GATA3','FOXA1','NFKB1','STAT3','PLAG1','FOXO1', 'TFAP2A', 'ZBTB33', 'NFIC','E2F1','BCL2']\n",
    "for gene in genelist:\n",
    "    plot_gene_expr( data_matrix_MCF7_CTRP2, annotation_col_1, gene)\n"
   ]
  },
  {
   "cell_type": "markdown",
   "metadata": {},
   "source": [
    "#### End of transcription factor annotation. For more annotation about drug concentration or drug targets, please check Example1_annotation_drugResponse.ipynb and Example1_annotation_targets."
   ]
  }
 ],
 "metadata": {
  "kernelspec": {
   "display_name": "Python 3 (ipykernel)",
   "language": "python",
   "name": "python3"
  },
  "language_info": {
   "codemirror_mode": {
    "name": "ipython",
    "version": 3
   },
   "file_extension": ".py",
   "mimetype": "text/x-python",
   "name": "python",
   "nbconvert_exporter": "python",
   "pygments_lexer": "ipython3",
   "version": "3.9.7"
  }
 },
 "nbformat": 4,
 "nbformat_minor": 2
}
