{
 "cells": [
  {
   "cell_type": "markdown",
   "metadata": {},
   "source": [
    "#### This jupyter notebook uses: <br> <br>1) the FM-factors for the transcriptome after gene knockdown generated in Example2_generate_FM_matrix.ipynb, <br> 2) the FM-factors for the transcriptome after drug treatment in Example1-generate-FM-matrix.ipynb,<br>  3) the five states annotated by concensus clustering method in Example1-comparing-clustering-annotation.ipynb, <br><br>and uses the KNN method to predict the transcriptome after gene knockdown to the states after drug treatment. "
   ]
  },
  {
   "cell_type": "code",
   "execution_count": 2,
   "metadata": {},
   "outputs": [],
   "source": [
    "import os\n",
    "import sys\n",
    "import pandas as pd\n",
    "import numpy as np\n",
    "import matplotlib.pyplot as plt\n",
    "import seaborn as sns\n",
    "import rpy2.robjects as ro\n",
    "import rpy2.robjects.numpy2ri\n",
    "rpy2.robjects.numpy2ri.activate()\n",
    "import scipy \n",
    "import scipy.stats as ss\n",
    "import statsmodels\n",
    "from statsmodels import stats\n",
    "from statsmodels.stats import multitest\n",
    "sys.path.append('../Script/')\n",
    "import FM_States\n",
    "import FM_selection\n",
    "import TF\n",
    "#from FM_States import *\n",
    "import rpy2\n",
    "from rpy2.robjects.packages import importr\n",
    "from sklearn.neighbors import KNeighborsClassifier\n",
    "import random\n",
    "\n",
    "base = importr('base')\n",
    "CC = importr('ConsensusClusterPlus')\n",
    "pheatmap = importr('pheatmap')\n",
    "\n",
    "ROOT_DIR = os.path.abspath(\"../\")"
   ]
  },
  {
   "cell_type": "markdown",
   "metadata": {},
   "source": [
    "#### File input"
   ]
  },
  {
   "cell_type": "code",
   "execution_count": 3,
   "metadata": {},
   "outputs": [],
   "source": [
    "para = {\n",
    "    'output_dir': ROOT_DIR+\"/Sample_output/Example2/\",\n",
    "    'input_fmf_file_drug': ROOT_DIR +  \"/Sample_output/Example1/matrix_factor_mcf7.csv\",\n",
    "    'input_fmf_file_sh':ROOT_DIR + \"/Sample_output/Example2/matrix_factor_sh_mcf7.csv\",\n",
    "    'annotation_col':ROOT_DIR + \"/Sample_output/Example1/annotation_col.csv\",\n",
    "    'selected_factor':ROOT_DIR +\"/Sample_output/Example1/Features_diff_all.csv\",\n",
    "    'meta':ROOT_DIR + '/Sample_input/Example2/MetaData_sig_info_sh_MCF7_96h.csv'\n",
    "}"
   ]
  },
  {
   "cell_type": "code",
   "execution_count": 4,
   "metadata": {},
   "outputs": [
    {
     "name": "stdout",
     "output_type": "stream",
     "text": [
      "Info: Creation of the directory failed!\n",
      "The direcory of /project/Sample_output/Example2/ may already exsit!\n"
     ]
    }
   ],
   "source": [
    "output_dir = para['output_dir']\n",
    "try:\n",
    "    os.makedirs(output_dir)\n",
    "except OSError:\n",
    "    print (\"Info: Creation of the directory failed!\\nThe direcory of %s may already exsit!\" % output_dir)\n",
    "else:\n",
    "    print (\"Successfully created the directory %s \" % output_dir)\n",
    "    "
   ]
  },
  {
   "cell_type": "markdown",
   "metadata": {},
   "source": [
    "#### Read files"
   ]
  },
  {
   "cell_type": "code",
   "execution_count": 5,
   "metadata": {},
   "outputs": [],
   "source": [
    "matrix_factor_sh_MCF7 = pd.read_csv(para['input_fmf_file_sh'], index_col = 'Unnamed: 0')\n",
    "matrix_factor = pd.read_csv(para['input_fmf_file_drug'], index_col = 'Unnamed: 0')\n",
    "annotation_col_1 = pd.read_csv(para['annotation_col'], index_col= 'Unnamed: 0')\n",
    "colors = ['#ff8080','pink','#fdd5ac','#8895df', 'cyan'] #Define the colors for cluster annotation\n",
    "output_dir = para['output_dir']\n",
    "select_modules =pd.read_csv(para['selected_factor'],index_col= 'Unnamed: 0')\n",
    "meta_sh = pd.read_csv(para['meta'])  ## Annotation data for shRNA\n",
    "meta_sh.index = meta_sh['sig_id']"
   ]
  },
  {
   "cell_type": "markdown",
   "metadata": {},
   "source": [
    "### KNN model"
   ]
  },
  {
   "cell_type": "code",
   "execution_count": 6,
   "metadata": {},
   "outputs": [],
   "source": [
    "from sklearn.neighbors import KNeighborsClassifier\n",
    "import random\n",
    "y = annotation_col_1.loc[list(matrix_factor.index.values)]  ## use the states after drug treatment as labels;\n",
    "x = matrix_factor[list(select_modules)].values              ## use the states after drug treatment as training set;\n",
    "y_test = matrix_factor_sh_MCF7[list(select_modules)]        ## use the FM-factors after shRNA knockdown as the testing set;"
   ]
  },
  {
   "cell_type": "code",
   "execution_count": 7,
   "metadata": {},
   "outputs": [],
   "source": [
    "states = sorted(list(set(annotation_col_1['States'])))\n",
    "dic_train = {}\n",
    "dic_test = {}\n",
    "score_dic_train = {}\n",
    "score_dic_test = {}\n",
    "pred_model ={}\n",
    "\n",
    "for num_neighbors in [5]: # K == 5 was chose as it give a higher accuracy and lower variance. see KNN_parameter_estimation.ipynb\n",
    "    score_list_train = []\n",
    "    score_list_test = []\n",
    "    \n",
    "    sample_forTrain = list(matrix_factor.index.values)\n",
    "    pd_x_train = matrix_factor.loc[sample_forTrain][list(select_modules)]\n",
    "    x_train = pd_x_train.values\n",
    "    y_train = annotation_col_1.loc[sample_forTrain]['States']\n",
    "        \n",
    "    \n",
    "    neigh = KNeighborsClassifier(n_neighbors = num_neighbors)\n",
    "    neigh.fit(x_train, y_train) \n",
    "\n",
    "    score_list_train.append(neigh.score(x_train,y_train))\n",
    "        \n",
    "    predicted_label = (neigh.predict(y_test.dropna().values))\n",
    "    predicted_probability = neigh.predict_proba(y_test.dropna().values)\n",
    "  \n",
    "    score_dic_train[num_neighbors] = score_list_train\n",
    "    \n",
    "score_df_train = pd.DataFrame.from_dict(score_dic_train)\n",
    "score_df_test = pd.DataFrame.from_dict(score_dic_test)\n"
   ]
  },
  {
   "cell_type": "code",
   "execution_count": 8,
   "metadata": {},
   "outputs": [],
   "source": [
    "prediction_result_knn = pd.DataFrame({'Sample': list(y_test.dropna().index.values), 'State':list(predicted_label)})\n",
    "df = pd.DataFrame(data=predicted_probability,columns =[\"S1\", \"S2\",\"S3\",\"S4\",\"S5\"], index= y_test.dropna().index.values)\n",
    "result = pd.DataFrame({\"Sample\": df.max(axis = 1).index, \"Prob\":df.max(axis = 1).values }) \n",
    "result_selected = prediction_result_knn.loc[prediction_result_knn['Sample'].isin(result.loc[result['Prob']>=0.6]['Sample'] )]"
   ]
  },
  {
   "cell_type": "markdown",
   "metadata": {},
   "source": [
    "### Number of samples classified to each state"
   ]
  },
  {
   "cell_type": "code",
   "execution_count": 9,
   "metadata": {},
   "outputs": [],
   "source": [
    "dic_sh_state = {}\n",
    "for state in states:\n",
    "    dic_sh_state[state] = list(result_selected.loc[result_selected['State'] ==  state]['Sample'].values)"
   ]
  },
  {
   "cell_type": "code",
   "execution_count": 10,
   "metadata": {},
   "outputs": [
    {
     "name": "stdout",
     "output_type": "stream",
     "text": [
      "[5693, 3192, 1909, 168, 1045]\n"
     ]
    }
   ],
   "source": [
    "Num_Seeds_state = []\n",
    "for state in states:\n",
    "    Num_Seeds_state.append(len(dic_sh_state[state])) \n",
    "\n",
    "print(Num_Seeds_state)"
   ]
  },
  {
   "cell_type": "code",
   "execution_count": 11,
   "metadata": {},
   "outputs": [
    {
     "data": {
      "image/png": "[encoded data removed]",
      "text/plain": [
       "<Figure size 180x180 with 1 Axes>"
      ]
     },
     "metadata": {
      "needs_background": "light"
     },
     "output_type": "display_data"
    }
   ],
   "source": [
    "colors = ['#ff8080','pink','#fdd5ac','#8895df', 'cyan'] #Define the colors for cluster annotation\n",
    "\n",
    "import matplotlib.pyplot as plt\n",
    "\n",
    "fig, ax = plt.subplots(figsize=(2.5, 2.5))\n",
    "\n",
    "#print(Num_Seeds_state)\n",
    "\n",
    "objects = states\n",
    "y_pos = np.arange(len(objects))\n",
    "plt.bar(y_pos,Num_Seeds_state, align='center', alpha=0.9,color=colors[0:len(objects)])\n",
    "plt.xticks(y_pos, objects)\n",
    "plt.ylabel('Num of seeds')\n",
    "plt.tight_layout()\n",
    "plt.savefig(output_dir+'/Num_seeds_wholeSet.png', dpi=300)\n",
    "plt.show()"
   ]
  },
  {
   "cell_type": "markdown",
   "metadata": {},
   "source": [
    "### Genes classified to each state"
   ]
  },
  {
   "cell_type": "code",
   "execution_count": 12,
   "metadata": {},
   "outputs": [],
   "source": [
    "def getLabel_forGene(Gene, dic_sh_state, meta_sh):\n",
    "    result = []\n",
    "    result_df = pd.DataFrame()\n",
    "    dic_Num = {}\n",
    "    for state in states:\n",
    "        dic_Num[state] = set(dic_sh_state[state]).intersection(set(meta_sh.loc[meta_sh['pert_iname'] == Gene]['sig_id']))\n",
    "    \n",
    "    for state in states:\n",
    "        if len(dic_Num[state] ) > 0:\n",
    "            A = len(dic_Num[state])  #Number of seeds for one gene in the state\n",
    "            B = 0\n",
    "            for state2 in states:\n",
    "                if state2 != state:\n",
    "                    B = B + len(dic_Num[state2])  #Number of seeds for one gene in other states\n",
    "                    \n",
    "            C = len(dic_sh_state[state]) - A   #Number of other seeds in the state\n",
    "            D = 0\n",
    "            for state2 in states:\n",
    "                if state2 != state:\n",
    "                    D = D + len(dic_sh_state[state2])\n",
    "            D = D - B           #Number of other seeds in all other states\n",
    "            \n",
    "            oddsratio, pvalue = scipy.stats.fisher_exact([[A, B], [C, D]], alternative = 'greater')\n",
    "            if(pvalue < 0.05 ):  #user defination\n",
    "                result.append(Gene)\n",
    "                result.append(state)\n",
    "                result.append(pvalue)\n",
    "                result.append(oddsratio)\n",
    "                result.append(A)\n",
    "    if(len(result) > 0):\n",
    "        return(result[0],result[1], result[2], result[3],result[4])\n",
    "    else:\n",
    "        return()"
   ]
  },
  {
   "cell_type": "code",
   "execution_count": 13,
   "metadata": {},
   "outputs": [],
   "source": [
    "genelist = []\n",
    "Lable_list = []\n",
    "P_list = []\n",
    "o_list = []\n",
    "C_list = []\n",
    "for gene in set(meta_sh['pert_iname']):\n",
    "    if(len(getLabel_forGene(gene,  dic_sh_state, meta_sh)) >4):  #if pvalue < 0.1\n",
    "        G,S,P,O,N = getLabel_forGene(gene, dic_sh_state, meta_sh)\n",
    "        Lable_list.append(S)\n",
    "        genelist.append(G)\n",
    "        P_list.append(P) \n",
    "        o_list.append(O) \n",
    "        C_list.append(N)\n",
    "        \n",
    "Result = pd.DataFrame({\"Gene\":genelist,\"Label\":Lable_list, 'P_value':P_list, \"OddRatio\":o_list, \"Num\":C_list})\n"
   ]
  },
  {
   "cell_type": "code",
   "execution_count": 14,
   "metadata": {},
   "outputs": [
    {
     "data": {
      "image/png": "[encoded data removed]",
      "text/plain": [
       "<Figure size 180x180 with 1 Axes>"
      ]
     },
     "metadata": {
      "needs_background": "light"
     },
     "output_type": "display_data"
    }
   ],
   "source": [
    "ylist = []\n",
    "for state in states:\n",
    "    ylist.append( (Result.loc[Result['Label'] == state].shape[0]) )\n",
    "\n",
    "import matplotlib.pyplot as plt\n",
    "\n",
    "fig, ax = plt.subplots(figsize=(2.5, 2.5))\n",
    "\n",
    "objects = states\n",
    "y_pos = np.arange(len(objects))\n",
    "plt.bar(y_pos,ylist, align='center', alpha=0.9,color=colors[0:len(objects)])\n",
    "plt.xticks(y_pos, objects)\n",
    "plt.ylabel('Num of Genes')\n",
    "plt.tight_layout()\n",
    "plt.savefig(output_dir+'/Num_Genes_allSet.png', dpi=300)\n",
    "plt.show()"
   ]
  },
  {
   "cell_type": "code",
   "execution_count": 15,
   "metadata": {},
   "outputs": [],
   "source": [
    "Result.to_csv(output_dir + \"Predicted_gene_allSet2.csv\")\n"
   ]
  },
  {
   "cell_type": "code",
   "execution_count": 16,
   "metadata": {},
   "outputs": [],
   "source": [
    "label = []\n",
    "sample = []\n",
    "for state in list(dic_sh_state.keys()):\n",
    "    for i in range(0, len(dic_sh_state[state])):\n",
    "        label.append(state)\n",
    "        sample.append(dic_sh_state[state][i])\n",
    "        \n",
    "Result_sample = pd.DataFrame({\"Sample\":sample, 'State':label})\n",
    "Result_sample.to_csv(output_dir + \"Predicted_sample_allSet.csv\")"
   ]
  },
  {
   "cell_type": "markdown",
   "metadata": {},
   "source": [
    "#### Check Example2_Depmap-allSet.ipynb for follow up analysis."
   ]
  }
 ],
 "metadata": {
  "kernelspec": {
   "display_name": "Python 3 (ipykernel)",
   "language": "python",
   "name": "python3"
  },
  "language_info": {
   "codemirror_mode": {
    "name": "ipython",
    "version": 3
   },
   "file_extension": ".py",
   "mimetype": "text/x-python",
   "name": "python",
   "nbconvert_exporter": "python",
   "pygments_lexer": "ipython3",
   "version": "3.9.7"
  }
 },
 "nbformat": 4,
 "nbformat_minor": 2
}
