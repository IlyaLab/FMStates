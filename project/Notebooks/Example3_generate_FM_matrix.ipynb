{
 "cells": [
  {
   "cell_type": "markdown",
   "metadata": {},
   "source": [
    "## About this notebook\n",
    "#### The jupyter notebook is used to generate FM-factor for the Breast cancer cell lines before drug treatment. The transcriptomic data were derived from the cancer cell lines from the GDSC study (https://dx.doi.org/10.1016%2Fj.cell.2016.06.017, https://www.cancerrxgene.org/) "
   ]
  },
  {
   "cell_type": "code",
   "execution_count": 4,
   "metadata": {},
   "outputs": [],
   "source": [
    "import os\n",
    "import sys\n",
    "import pandas as pd\n",
    "import numpy as np\n",
    "import matplotlib.pyplot as plt\n",
    "import seaborn as sns\n",
    "import rpy2.robjects as ro\n",
    "import rpy2.robjects.numpy2ri\n",
    "rpy2.robjects.numpy2ri.activate()\n",
    "import scipy \n",
    "import scipy.stats as ss\n",
    "import statsmodels\n",
    "from statsmodels import stats\n",
    "from statsmodels.stats import multitest\n",
    "sys.path.append('../Script/')\n",
    "import FM_States\n",
    "import FM_selection\n",
    "import TF\n",
    "import rpy2\n",
    "from rpy2.robjects.packages import importr\n",
    "from ipywidgets import interact, interactive, fixed, interact_manual\n",
    "import ipywidgets as widgets\n",
    "import Query\n",
    "base = importr('base')\n",
    "CC = importr('ConsensusClusterPlus')\n",
    "pheatmap = importr('pheatmap')\n",
    "bezier = importr('bezier')\n",
    "ROOT_DIR = os.path.abspath(\"../\")"
   ]
  },
  {
   "cell_type": "code",
   "execution_count": 2,
   "metadata": {},
   "outputs": [],
   "source": [
    "para = {\n",
    "    'output_dir': ROOT_DIR+\"/Sample_output/Example3/\",\n",
    "    'input_dir': ROOT_DIR+\"/Sample_input/Example3/\",\n",
    "    'output_fmf_file':ROOT_DIR+\"/Sample_output/Example3/\" +\"matrix_factor_brca_gdsc.csv\",\n",
    "    'sele_modules': ['Translation',\n",
    "        'Nucleotide metabolism',\n",
    "        'Signal transduction',\n",
    "        'Amino acid metabolism',\n",
    "        'Folding sorting and degradation',\n",
    "         'Replication and repair',\n",
    "         'Carbohydrate metabolism',\n",
    "         'Membrane transport',\n",
    "         'Cellular community - eukaryotes',\n",
    "         'Lipid metabolism',\n",
    "         'Metabolism of other amino acids',\n",
    "         'Transcription',\n",
    "         'Xenobiotics biodegradation and metabolism',\n",
    "         'Signaling molecules and interaction',\n",
    "         'Energy metabolism',\n",
    "         'Transport and catabolism',\n",
    "         'Glycan biosynthesis and metabolism',\n",
    "         'Metabolism of cofactors and vitamins',\n",
    "         'Cell motility',\n",
    "         'Cell cycle', \n",
    "         'Apoptosis', \n",
    "         'Cellular senescence', \n",
    "         'p53 signaling pathway']\n",
    "}"
   ]
  },
  {
   "cell_type": "code",
   "execution_count": 5,
   "metadata": {},
   "outputs": [],
   "source": [
    "query_EXP = '''\n",
    "select COSMIC_identifier, gene_symbol, RMA_proc_basalExp from `isb-cgc-04-0002.GDSC_v0.Basal_Gene_Exp`\n",
    "where COSMIC_identifier in \n",
    "(select COSMIC_identifier from `isb-cgc-04-0002.GDSC_v0.Cell_Line_Details`\n",
    "where TCGA_Cancer_Type = 'BRCA' and Whole_Exome_Sequencing = 'Y' )\n",
    "'''\n",
    "\n",
    "Expr = Query.Query_FromGCloud(query_EXP)\n",
    "Expr.to_csv(para['input_dir'] + \"/BRCA_GDSC_Expr.csv\")"
   ]
  },
  {
   "cell_type": "code",
   "execution_count": 6,
   "metadata": {},
   "outputs": [],
   "source": [
    "BRCA_expr = pd.read_csv(para['input_dir'] +\"/matrix_exp_brca_gdsc.csv\", index_col=\"Unnamed: 0\")"
   ]
  },
  {
   "cell_type": "code",
   "execution_count": 7,
   "metadata": {},
   "outputs": [],
   "source": [
    "dic_module, KEGG_level2, KEGG_level3, KEGG_modules = FM_selection.load_function_modules(\"KEGG\")\n",
    "module_selected_gmt = KEGG_modules.loc[KEGG_modules['name'].isin(para['sele_modules']) ]\n",
    "\n",
    "TF_pairs = TF.get_tfpairs_for_select_pathways(BRCA_expr,list(set(KEGG_modules['name']).intersection(para['sele_modules'])),dic_module)\n",
    "\n",
    "\n",
    "TF_pairs.to_csv(para['output_dir'] +\"/TF_pairs.csv\")\n",
    "\n",
    "matrix_factor = FM_States.generate_factor(BRCA_expr, list(set(KEGG_modules['name']).intersection(para['sele_modules'])), module_selected_gmt, TF_pairs, UP = True, DOWN = True, ssGSEA = True, TF = True, absolute = True)\n",
    "matrix_factor.to_csv(para['output_dir'] +\"/matrix_factor_brca_gdsc.csv\")"
   ]
  },
  {
   "cell_type": "markdown",
   "metadata": {},
   "source": [
    "#### The results can be used to understand the FM-factors and their associations with drug sensitivity in Example3_association_analysis_FM-Facotors_drugResponse.ipynb or be used to predict drug sensitivity in Example3_predict_drug_response_rf.ipynb"
   ]
  }
 ],
 "metadata": {
  "kernelspec": {
   "display_name": "Python 3",
   "language": "python",
   "name": "python3"
  },
  "language_info": {
   "codemirror_mode": {
    "name": "ipython",
    "version": 3
   },
   "file_extension": ".py",
   "mimetype": "text/x-python",
   "name": "python",
   "nbconvert_exporter": "python",
   "pygments_lexer": "ipython3",
   "version": "3.7.3"
  }
 },
 "nbformat": 4,
 "nbformat_minor": 2
}
