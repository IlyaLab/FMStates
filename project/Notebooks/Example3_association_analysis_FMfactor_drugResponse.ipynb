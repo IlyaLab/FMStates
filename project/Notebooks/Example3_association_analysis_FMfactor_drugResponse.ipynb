{
 "cells": [
  {
   "cell_type": "markdown",
   "metadata": {},
   "source": [
    "# About this notebook: \n",
    "This jupyter notebook is used to analyze the association between functional model factors and the drug sensitivity (IC50 values).  The  functional model factors are from the result of Example3_generate_FM_matrix.ipynb. "
   ]
  },
  {
   "cell_type": "markdown",
   "metadata": {},
   "source": [
    "#### Load libraries"
   ]
  },
  {
   "cell_type": "code",
   "execution_count": null,
   "metadata": {},
   "outputs": [],
   "source": [
    "import os\n",
    "import sys\n",
    "import pandas as pd\n",
    "import numpy as np\n",
    "import matplotlib.pyplot as plt\n",
    "import seaborn as sns\n",
    "import rpy2.robjects as ro\n",
    "import rpy2.robjects.numpy2ri\n",
    "rpy2.robjects.numpy2ri.activate()\n",
    "import scipy \n",
    "import scipy.stats as ss\n",
    "import statsmodels\n",
    "from statsmodels import stats\n",
    "from statsmodels.stats import multitest\n",
    "sys.path.append('../Script/')\n",
    "import FM_States\n",
    "import FM_selection\n",
    "import TF\n",
    "import Drug_response\n",
    "#import Query\n",
    "\n",
    "import rpy2\n",
    "from rpy2.robjects.packages import importr\n",
    "from ipywidgets import interact, interactive, fixed, interact_manual\n",
    "import ipywidgets as widgets\n",
    "base = importr('base')\n",
    "CC = importr('ConsensusClusterPlus')\n",
    "pheatmap = importr('pheatmap')\n",
    "ROOT_DIR = os.path.abspath(\"../\")"
   ]
  },
  {
   "cell_type": "code",
   "execution_count": null,
   "metadata": {},
   "outputs": [],
   "source": [
    "para = {\n",
    "    'output_dir': ROOT_DIR+\"/Sample_output/Example3/\",\n",
    "    'input_dir': ROOT_DIR+\"/Sample_input/Example3/\",\n",
    "    'output_fmf_file':ROOT_DIR+\"/Sample_output/Example3/\" +\"matrix_factor_brca_gdsc.csv\",\n",
    "    'Label_UP': True,\n",
    "    'Label_DOWN':True,\n",
    "    'Label_ssGSEA': True,\n",
    "    'Label_TF':True,\n",
    "    'isAbsoluteValues':False,\n",
    "    'sele_modules': ['Translation',\n",
    "        'Nucleotide metabolism',\n",
    "        'Signal transduction',\n",
    "        'Amino acid metabolism',\n",
    "        'Folding sorting and degradation',\n",
    "         'Replication and repair',\n",
    "         'Carbohydrate metabolism',\n",
    "         'Membrane transport',\n",
    "         'Cellular community - eukaryotes',\n",
    "         'Lipid metabolism',\n",
    "         'Metabolism of other amino acids',\n",
    "         'Transcription',\n",
    "         'Xenobiotics biodegradation and metabolism',\n",
    "         'Signaling molecules and interaction',\n",
    "         'Energy metabolism',\n",
    "         'Transport and catabolism',\n",
    "         'Glycan biosynthesis and metabolism',\n",
    "         'Metabolism of cofactors and vitamins',\n",
    "         'Cell motility',\n",
    "         'Cell cycle', \n",
    "         'Apoptosis', \n",
    "         'Cellular senescence', \n",
    "         'p53 signaling pathway']\n",
    "}"
   ]
  },
  {
   "cell_type": "markdown",
   "metadata": {},
   "source": [
    "#### IC50 values, AUC values and the drug annotation information are derived from the GDSC project (https://dx.doi.org/10.1016%2Fj.cell.2016.06.017, https://www.cancerrxgene.org/) . "
   ]
  },
  {
   "cell_type": "code",
   "execution_count": null,
   "metadata": {},
   "outputs": [],
   "source": [
    "## Read the FM-matrix\n",
    "matrix_factor = pd.read_csv(para['output_dir'] +\"/matrix_factor_brca_gdsc.csv\", index_col= \"Unnamed: 0\")\n",
    "## Read the IC50, AUC and drug annotation tables. Data from GDSC project. \n",
    "Drug_IC50 = pd.read_csv(para['input_dir'] +\"Drug_IC50_matrix.csv\", index_col= \"Unnamed: 0\") #This includes all drugs and all cell lines\n",
    "Drug_AUC = pd.read_csv(para['input_dir'] +\"Drug_AUC_matrix.csv\", index_col= \"Unnamed: 0\")\n",
    "DrugInformation = pd.read_csv(para['input_dir'] + '/Drug_annotation.csv', index_col= \"Unnamed: 0\")"
   ]
  },
  {
   "cell_type": "markdown",
   "metadata": {},
   "source": [
    "##### Select IC50 valuse for breast cancer cell lines"
   ]
  },
  {
   "cell_type": "code",
   "execution_count": null,
   "metadata": {},
   "outputs": [],
   "source": [
    "output_dir = para['output_dir']\n",
    "BRCA_cellLine = list(matrix_factor.index.values)\n",
    "\n",
    "cell_lines_Brca = list(set(Drug_IC50.columns.tolist()).intersection(set(Drug_response.convert(BRCA_cellLine))))\n",
    "Drug_IC50[Drug_response.convert(cell_lines_Brca)]\n",
    "Drug_IC50_new = Drug_IC50[Drug_response.convert(cell_lines_Brca)]\n",
    "\n",
    "effect_drugs = (Drug_response.effective_drugs(Drug_IC50[Drug_response.convert(cell_lines_Brca)], \n",
    "                                              thereshold_percentage= 0.1, \n",
    "                                              thereshold_sensitivity = -1, \n",
    "                                              measurements = 24)) #0.1 means 10 percent of samples show log(IC50) values smaller than -1\n",
    "drug_matrix = Drug_IC50.loc[effect_drugs]\n",
    "drug_matrix_brca = drug_matrix[Drug_response.convert(cell_lines_Brca)]\n",
    "drug_matrix_new = drug_matrix_brca[Drug_response.convert(list(matrix_factor.index.values))]\n"
   ]
  },
  {
   "cell_type": "markdown",
   "metadata": {},
   "source": [
    "##### measure the correlation between the FM-factors and the IC50s"
   ]
  },
  {
   "cell_type": "code",
   "execution_count": null,
   "metadata": {},
   "outputs": [],
   "source": [
    "pd_cor,pd_pVal = Drug_response.correlation_analysis(matrix_factor, drug_matrix_new, min_IC50 = -1)\n",
    "sig_pd = Drug_response.plot_pval(pd_pVal, pd_cor,3,output_dir)\n"
   ]
  },
  {
   "cell_type": "code",
   "execution_count": null,
   "metadata": {},
   "outputs": [],
   "source": [
    "cor_matrix_simp, cor_matrix_sig_simp, cor_matrix_sig = Drug_response.get_sig_matrix(pd_pVal, pd_cor, sig_pd.index.values.tolist())"
   ]
  },
  {
   "cell_type": "code",
   "execution_count": null,
   "metadata": {},
   "outputs": [],
   "source": [
    "DrugInformation['new_id'] = DrugInformation['Drug_name'] +':'+ DrugInformation['Drug_Targeted_process_or_pathway']\n"
   ]
  },
  {
   "cell_type": "code",
   "execution_count": null,
   "metadata": {},
   "outputs": [],
   "source": [
    "def rename_drug(cor_matrix_sig_simp, DrugInformation):\n",
    "    name_list = []\n",
    "    id_list = cor_matrix_sig_simp.index.tolist()\n",
    "    for idx in id_list:\n",
    "        name = (DrugInformation.loc[DrugInformation['Drug_Identifier'] == (idx)]['Drug_name'].values).tolist()[0]\n",
    "        name_list.append(name)\n",
    "    \n",
    "    cor_matrix_sig_simp.index = name_list\n",
    "    return(cor_matrix_sig_simp)\n"
   ]
  },
  {
   "cell_type": "code",
   "execution_count": null,
   "metadata": {},
   "outputs": [],
   "source": [
    "cor_matrix_sig_simp_new = rename_drug(cor_matrix_sig_simp, DrugInformation)\n",
    "cor_matrix_simp_new = rename_drug(cor_matrix_simp, DrugInformation)"
   ]
  },
  {
   "cell_type": "code",
   "execution_count": null,
   "metadata": {},
   "outputs": [],
   "source": [
    "cor_matrix_simp_new.to_csv(para['output_dir'] + \"cor_matrix_simp_new.csv\")\n",
    "cor_matrix_sig_simp_new.to_csv(para['output_dir'] + \"cor_matrix_sig_simp_new.csv\")"
   ]
  },
  {
   "cell_type": "markdown",
   "metadata": {},
   "source": [
    "##### Plot the correlation and p-values"
   ]
  },
  {
   "cell_type": "code",
   "execution_count": null,
   "metadata": {},
   "outputs": [],
   "source": [
    "matrix_factor_selected_sig = cor_matrix_sig_simp[list((set(cor_matrix_sig_simp.columns)) - set(['States']))]\n",
    "B_sig = matrix_factor_selected_sig.values\n",
    "nr,nc = B_sig.shape\n",
    "samples_name = ro.r.c(matrix_factor_selected_sig.index.values)\n",
    "factor_name = ro.r.c(matrix_factor_selected_sig.columns.values)\n",
    "\n",
    "B_sig = ro.r.matrix(B_sig, nrow=nr, ncol=nc, dimnames = [ matrix_factor_selected_sig.index.values, matrix_factor_selected_sig.columns.values])\n",
    "\n",
    "anno = DrugInformation.loc[DrugInformation['Drug_name'].isin(matrix_factor_selected_sig.index.to_list())][['Drug_name','Drug_Action','Drug_Targeted_process_or_pathway']]\n",
    "anno.index = anno['Drug_name']\n",
    "anno = anno.drop_duplicates()\n",
    "anno.to_csv(output_dir+\"/anotation_drug_sig.csv\")\n",
    "\n",
    "\n",
    "matrix_factor_selected = cor_matrix_simp.loc[list(cor_matrix_sig_simp.index.values),list((set(cor_matrix_sig_simp.columns)) - set(['States']))]\n",
    "B = matrix_factor_selected.values\n",
    "nr,nc = B.shape\n",
    "samples_name = ro.r.c(matrix_factor_selected.index.values)\n",
    "factor_name = ro.r.c(matrix_factor_selected.columns.values)\n",
    "\n",
    "Br = ro.r.matrix(B, nrow=nr, ncol=nc, dimnames = [ matrix_factor_selected.index.values, matrix_factor_selected.columns.values])\n",
    "\n",
    "\n",
    "%load_ext rpy2.ipython"
   ]
  },
  {
   "cell_type": "code",
   "execution_count": null,
   "metadata": {},
   "outputs": [],
   "source": [
    "%%R -i Br,nr,nc,samples_name,factor_name,B_sig,output_dir  -w 12 -h 7 --units in -r 300\n",
    "\n",
    "library(pheatmap)\n",
    "\n",
    "Br = matrix(Br, nrow=nr, ncol=nc, dimnames = list( samples_name, factor_name))\n",
    "\n",
    "anno = read.csv(file = paste(output_dir,\"/anotation_drug_sig.csv\", sep = ''))\n",
    "rownames(anno) = anno[,'Drug_name']\n",
    "anno = anno[,c('Drug_Targeted_process_or_pathway','Drug_Action')]\n",
    "\n",
    "#pdf(file = paste(output_dir,\"/IC50_FM_correlation.pdf\", sep = ''), 12, 7, pointsize = 12)\n",
    "\n",
    "color_forpheatmap2 = c(c(colorRampPalette(c(\"#08209a\", \"white\"))(-1 * (round(min(Br)*100))),c(colorRampPalette(c(\"white\",\"#af1c15\"))(round(max(Br)*100))) ))\n",
    "\n",
    "label <- t(B_sig)\n",
    "label <- ifelse(label > 0,'*',label)\n",
    "label <- ifelse(label < 0,'*',label)\n",
    "label <- ifelse(label == 0,'',label)\n",
    "\n",
    "\n",
    "pheatmap((t(Br)),\n",
    "         border_color = \"grey\",\n",
    "         border_width = 0.0001,\n",
    "         cluster_col = TRUE,\n",
    "         cluster_row = TRUE,\n",
    "         annotation_col = anno,\n",
    "         clustering_method = 'ward.D2',\n",
    "         color = color_forpheatmap2,\n",
    "         fontsize_row = 8,\n",
    "         fontsize_col = 8,\n",
    "         fontsize = 12,\n",
    "         display_numbers = label)\n"
   ]
  },
  {
   "cell_type": "markdown",
   "metadata": {},
   "source": [
    "##### Volcano plot of correlations for a specific FM-factor"
   ]
  },
  {
   "cell_type": "code",
   "execution_count": null,
   "metadata": {},
   "outputs": [],
   "source": [
    "import matplotlib.pyplot as plt\n",
    "import numpy as np\n",
    "from sklearn.linear_model import LinearRegression\n",
    "import numpy as np, statsmodels.api as sm\n",
    "import  scipy\n",
    "from scipy.stats import spearmanr, pearsonr\n",
    "\n",
    "def regression_simple(drug, factor,Drug_IC50, data_nodes):\n",
    "    model = LinearRegression()\n",
    "    rho = 0\n",
    "    pval = 1\n",
    "    y = Drug_IC50.loc[drug].values\n",
    "    x1 = np.array(data_nodes.loc[factor].values)\n",
    "    x1 = x1[np.isnan(y)==False]\n",
    "    y = y[np.isnan(y)==False]\n",
    "    if(len(y) > 10):\n",
    "        rho, pval = spearmanr(x1,y)\n",
    "    return(rho, pval)\n",
    "def convert_toInt(list): \n",
    "    res = []\n",
    "    # Converting integer list to string list \n",
    "    for i in list:\n",
    "        res.append(int(i)) \n",
    "    return(res)\n",
    "\n",
    "def convert(list): \n",
    "    res = []\n",
    "    # Converting integer list to string list \n",
    "    for i in list:\n",
    "        res.append(str(i)) \n",
    "    return(res)\n",
    "def sig_drugs(result_sig_neg_sort):\n",
    "    idlist = []\n",
    "    for id in list(result_sig_neg_sort.index.values):\n",
    "        idlist.append((id))\n",
    "\n",
    "    result_sig_neg_sort['Drug_Identifier'] = idlist\n",
    "\n",
    "    Drug_sig = DrugInformation.loc[DrugInformation['Drug_Identifier'].isin(idlist)]\n",
    "    \n",
    "    Drug_sig.index = Drug_sig['Drug_Identifier'].tolist()\n",
    "    \n",
    "    result_sig_neg_sort.index = result_sig_neg_sort['Drug_Identifier'].tolist()\n",
    "    \n",
    "    result = result_sig_neg_sort.merge(Drug_sig, left_on='Drug_Identifier', right_on='Drug_Identifier')\n",
    "    #result = pd.concat([result_sig_neg_sort, Drug_sig], axis=0, sort=False)\n",
    "    return(result)\n",
    "\n",
    "\n",
    "#matrix_factor_selected = matrix_factor[select_modules]\n",
    "matrix_factor_selected = matrix_factor\n",
    "drugs = Drug_IC50_new[convert(BRCA_cellLine)].index.values\n",
    "factors = cor_matrix_sig.columns.values\n",
    "\n",
    "rho_list = []\n",
    "pval_list = []\n",
    "\n",
    "#for i in range(0,cor_matrix_sig.shape[1]):\n",
    "#i = 3\n",
    "#i = 0\n",
    "i = 10\n",
    "factor = cor_matrix_sig.columns.values[i]\n",
    "#factor = 'p53 signaling pathway_ssGSEA'\n",
    "for drug in drugs:\n",
    "    rho,pval = regression_simple(drug, factor, Drug_IC50_new[convert(BRCA_cellLine)],matrix_factor_selected.transpose())\n",
    "    rho_list.append(rho)\n",
    "    pval_list.append(pval)\n",
    "\n",
    "result_pd = pd.DataFrame({\"rho\":rho_list, \"pval\":pval_list})\n",
    "result_pd.index = drugs\n",
    "result_pd['pval'] = -1 * np.log(result_pd['pval'])\n",
    "\n",
    "result_sig = result_pd.loc[result_pd['pval'] > -1 * np.log(0.05)]\n",
    "result_sig_neg = result_sig.loc[result_sig['rho'] < 0]\n",
    "result_sig_pos = result_sig.loc[result_sig['rho'] > 0]\n",
    "result_sig_neg_sort = result_sig_neg.sort_values(by = 'pval', ascending=False)\n",
    "result_sig_pos_sort = result_sig_pos.sort_values(by = 'pval', ascending=False)\n",
    "\n",
    "plt.figure(figsize=(4.5,4))\n",
    "plt.xlabel(\"(Sensitive)<-Spearman Correlation->(Resistant)\", fontsize =  12)\n",
    "plt.ylabel(\"-log10(P-value)\", fontsize =  13)\n",
    "plt.scatter(result_pd['rho'],result_pd['pval'],c='grey', marker = \".\")\n",
    "plt.scatter(result_sig_neg['rho'],result_sig_neg['pval'],c='b',marker = \"*\", s = 18)\n",
    "plt.scatter(result_sig_pos['rho'],result_sig_pos['pval'],c='r',marker = \"*\", s = 18)  \n",
    "plt.title(factor)\n",
    "plt.tight_layout()\n",
    "\n",
    "count = 0\n",
    "\n",
    "for index in range(result_sig_pos_sort.shape[0]):\n",
    "    count = count + 1\n",
    "    x = result_sig_pos_sort.iloc[index][\"rho\"]+0.02\n",
    "    y = (pd.to_numeric(result_sig_pos_sort.iloc[index][\"pval\"])) \n",
    "    Value = list(result_sig_pos_sort.index)[index]\n",
    "    label = DrugInformation[DrugInformation['Drug_Identifier'] == (Value)]['Drug_name'].values[0] + ' (' + DrugInformation[DrugInformation['Drug_Identifier'] == (Value)]['Drug_Targeted_process_or_pathway'].values[0] + ')'\n",
    "    plt.text(x,y,label,fontsize=5)\n",
    "    #x1 = x + 0.015 * len(DrugInformation[DrugInformation['Drug_Identifier'] == str(Value)]['Drug_name'].values[0])\n",
    "    #plt.text(x1,y,'(' + DrugInformation[DrugInformation['Drug_Identifier'] == str(Value)]['Drug_Targeted_process_or_pathway'].values[0] + ')',fontsize=3, color = 'r')\n",
    "    if count > 20:\n",
    "        break\n",
    "\n",
    "count = 0\n",
    "\n",
    "for index in range(result_sig_neg_sort.shape[0]):\n",
    "    count = count + 1\n",
    "    x = result_sig_neg_sort.iloc[index][\"rho\"]+0.02\n",
    "    y = (pd.to_numeric(result_sig_neg_sort.iloc[index][\"pval\"])) \n",
    "    Value = list(result_sig_neg_sort.index)[index]\n",
    "    plt.text(x,y,DrugInformation[DrugInformation['Drug_Identifier'] == (Value)]['Drug_name'].values[0] + ' (' + DrugInformation[DrugInformation['Drug_Identifier'] == (Value)]['Drug_Targeted_process_or_pathway'].values[0] + ')',fontsize=5)\n",
    "    if count > 20:\n",
    "        break\n",
    "plt.tight_layout()        \n",
    "plt.savefig(output_dir + '/vocano_'+factor+\".pdf\", dpi=300, facecolor='w', edgecolor='w',\n",
    "        orientation='portrait', papertype=None, format=\"pdf\",\n",
    "        transparent=True, bbox_inches=None, pad_inches=0.2,\n",
    "        frameon=None, metadata=None)\n",
    "\n",
    "plt.figure(figsize=(4.5,4))\n",
    "plt.xlabel(\"(Sensitive)<-Spearman Correlation->(Resistant)\", fontsize =  12)\n",
    "plt.ylabel(\"-log10(P-value)\", fontsize =  13)\n",
    "plt.scatter(result_pd['rho'],result_pd['pval'],c='grey', marker = \".\")\n",
    "plt.scatter(result_sig_neg['rho'],result_sig_neg['pval'],c='b',marker = \"*\", s = 18)\n",
    "plt.scatter(result_sig_pos['rho'],result_sig_pos['pval'],c='r',marker = \"*\", s = 18)  \n",
    "plt.title(factor)\n",
    "plt.tight_layout()\n",
    "\n",
    "count = 0\n",
    "\n",
    "for index in range(result_sig_pos_sort.shape[0]):\n",
    "    count = count + 1\n",
    "    x = result_sig_pos_sort.iloc[index][\"rho\"]+0.02\n",
    "    y = (pd.to_numeric(result_sig_pos_sort.iloc[index][\"pval\"])) \n",
    "    Value = list(result_sig_pos_sort.index)[index]\n",
    "    if count > 20:\n",
    "        break\n",
    "\n",
    "count = 0\n",
    "\n",
    "for index in range(result_sig_neg_sort.shape[0]):\n",
    "    count = count + 1\n",
    "    x = result_sig_neg_sort.iloc[index][\"rho\"]+0.02\n",
    "    y = (pd.to_numeric(result_sig_neg_sort.iloc[index][\"pval\"])) \n",
    "    Value = list(result_sig_neg_sort.index)[index]\n",
    "    if count > 20:\n",
    "        break\n",
    "plt.tight_layout()        \n",
    "plt.savefig(output_dir + '/vocano_'+factor+\"_noLabel.pdf\", dpi=300, facecolor='w', edgecolor='w',\n",
    "        orientation='portrait', papertype=None, format=\"pdf\",\n",
    "        transparent=True, bbox_inches=None, pad_inches=0.2,\n",
    "        frameon=None, metadata=None)\n",
    "\n",
    "\n",
    "result_neg = sig_drugs(result_sig_neg_sort)\n",
    "result_pos = sig_drugs(result_sig_pos_sort)"
   ]
  },
  {
   "cell_type": "code",
   "execution_count": null,
   "metadata": {},
   "outputs": [],
   "source": [
    "result_neg.sort_values(['pval'],ascending = False)"
   ]
  },
  {
   "cell_type": "code",
   "execution_count": null,
   "metadata": {},
   "outputs": [],
   "source": [
    "result_pos.sort_values(['pval'],ascending = False)"
   ]
  },
  {
   "cell_type": "code",
   "execution_count": null,
   "metadata": {},
   "outputs": [],
   "source": []
  }
 ],
 "metadata": {
  "kernelspec": {
   "display_name": "Python 3 (ipykernel)",
   "language": "python",
   "name": "python3"
  },
  "language_info": {
   "codemirror_mode": {
    "name": "ipython",
    "version": 3
   },
   "file_extension": ".py",
   "mimetype": "text/x-python",
   "name": "python",
   "nbconvert_exporter": "python",
   "pygments_lexer": "ipython3",
   "version": "3.9.7"
  }
 },
 "nbformat": 4,
 "nbformat_minor": 2
}
