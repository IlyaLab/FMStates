{
 "cells": [
  {
   "cell_type": "markdown",
   "metadata": {},
   "source": [
    "### This jupyter notebook uses the predicted states using the siRNA knockout transcriptome ( results form Example2_KNN_ALL.ipynb) and the gene kncokout effects from the DepMap data (depmap.org/portal/download, DepMap Public 19Q3) to predict the targetable vulnerability."
   ]
  },
  {
   "cell_type": "markdown",
   "metadata": {},
   "source": [
    "#### Load libraries"
   ]
  },
  {
   "cell_type": "code",
   "execution_count": null,
   "metadata": {},
   "outputs": [],
   "source": [
    "import os\n",
    "import sys\n",
    "import pandas as pd\n",
    "import numpy as np\n",
    "import matplotlib.pyplot as plt\n",
    "import seaborn as sns\n",
    "import rpy2.robjects as ro\n",
    "import rpy2.robjects.numpy2ri\n",
    "rpy2.robjects.numpy2ri.activate()\n",
    "import scipy \n",
    "import scipy.stats as ss\n",
    "import statsmodels\n",
    "from statsmodels import stats\n",
    "from statsmodels.stats import multitest\n",
    "sys.path.append('../Script/')\n",
    "import FM_States\n",
    "import FM_selection\n",
    "import TF\n",
    "#from FM_States import *\n",
    "import rpy2\n",
    "from rpy2.robjects.packages import importr\n",
    "\n",
    "base = importr('base')\n",
    "CC = importr('ConsensusClusterPlus')\n",
    "pheatmap = importr('pheatmap')\n",
    "\n",
    "ROOT_DIR = os.path.abspath(\"../\")"
   ]
  },
  {
   "cell_type": "markdown",
   "metadata": {},
   "source": [
    "### Input from the results of Example2_KNN_ALL.ipynb"
   ]
  },
  {
   "cell_type": "code",
   "execution_count": null,
   "metadata": {},
   "outputs": [],
   "source": [
    "para = {\n",
    "    'input_dir': ROOT_DIR+\"/Sample_input/Example2/\",\n",
    "    'output_dir': ROOT_DIR+\"/Sample_output/Example2/\",\n",
    "    'KNN_labels':ROOT_DIR+\"/Sample_output/Example2/Predicted_gene_allSet2.csv\",\n",
    "    'annotation_col':ROOT_DIR +  \"/Sample_output/Example1/annotation_col.csv\",\n",
    "    'Gene_effect_Depmap':ROOT_DIR+\"/Dataset/Achilles_gene_effect.csv\"\n",
    "}"
   ]
  },
  {
   "cell_type": "code",
   "execution_count": null,
   "metadata": {},
   "outputs": [],
   "source": [
    "Result = pd.read_csv(para['KNN_labels'])\n",
    "output_dir = para['output_dir']\n",
    "\n",
    "annotation_col_1 = pd.read_csv(para['annotation_col'], index_col= 'Unnamed: 0')\n",
    "states = sorted(list(set(annotation_col_1['States'])))\n",
    "colors = ['#ff8080','pink','#fdd5ac','#8895df', 'cyan'] #Define the colors for cluster annotation\n"
   ]
  },
  {
   "cell_type": "code",
   "execution_count": null,
   "metadata": {},
   "outputs": [],
   "source": [
    "Result_sample = pd.read_csv(output_dir + \"Predicted_sample_allSet.csv\")\n",
    "\n",
    "dic_sh_state = {}\n",
    "for state in list(set(Result_sample['State'])):\n",
    "    dic_sh_state[state] = list(Result_sample.loc[Result_sample['State'] == state]['Sample'])\n",
    "    \n",
    "meta_sh = pd.read_csv(para['input_dir']+\"/MetaData_sig_info_sh_MCF7_96h.csv\")  ## Annotation data for shRNA\n",
    "meta_sh.index = meta_sh['sig_id']"
   ]
  },
  {
   "cell_type": "code",
   "execution_count": null,
   "metadata": {},
   "outputs": [],
   "source": [
    "#Result.loc[Result['Gene'] == 'RPS7']\n",
    "#x = list(meta_sh[meta_sh['pert_iname'] == 'RPS7'].index)"
   ]
  },
  {
   "cell_type": "code",
   "execution_count": null,
   "metadata": {},
   "outputs": [],
   "source": [
    "#set(dic_sh_state['S4']).intersection(x)"
   ]
  },
  {
   "cell_type": "markdown",
   "metadata": {},
   "source": [
    "#### Use the Crisper knockout data in Depmap to annotate the knockout effects for gene knockout which drive to different cell states. Depmap 2019 Q3 was used. "
   ]
  },
  {
   "cell_type": "code",
   "execution_count": null,
   "metadata": {},
   "outputs": [],
   "source": [
    "knockdown_DepMap = pd.read_csv(para['Gene_effect_Depmap'], index_col = 'Unnamed: 0')\n",
    "\n",
    "df = pd.DataFrame(data=knockdown_DepMap, index=knockdown_DepMap.index, columns =knockdown_DepMap.columns.values )\n",
    "\n",
    "MCF7_gene_effect_Depmap = df.loc['ACH-000019']\n",
    "new_index_list = []\n",
    "for item in list(MCF7_gene_effect_Depmap.index):\n",
    "    new_index_list.append(item.split('(')[0].strip())\n",
    "MCF7_gene_effect_Depmap.index = new_index_list   \n",
    "\n",
    "dic_eff = {}\n",
    "data_arr = []\n",
    "for state in states:\n",
    "    dic_eff[state] = FM_States.intersection( list(Result.loc[Result['Label'] == state]['Gene'].values),MCF7_gene_effect_Depmap.index.tolist() )\n",
    "    data_arr.append(MCF7_gene_effect_Depmap.loc[dic_eff[state]].values)\n",
    "#np.random.seed(19680820)\n",
    "\n",
    "all_data = np.array(data_arr)\n",
    "labels = states\n",
    "fig, ax = plt.subplots(figsize=(2.5, 2.5))\n",
    "bplot2 = ax.boxplot(all_data,\n",
    "                         notch=True,  # notch shape\n",
    "                         vert=True,  # vertical box alignment\n",
    "                         patch_artist=True,  # fill with color\n",
    "                         labels=labels[0:len(states)])  # will be used to label x-ticks\n",
    "\n",
    "colors = colors\n",
    "\n",
    "for patch, color in zip(bplot2['boxes'], colors):\n",
    "    patch.set_facecolor(color)\n",
    "\n",
    "ax.yaxis.grid(True)\n",
    "ax.set_xlabel('States')\n",
    "ax.set_ylabel('Knockout_Effect')\n",
    "ax.set_ylim([-2,1])\n",
    "plt.tight_layout()\n",
    "plt.savefig(output_dir+'/Knockout_Effect_allSet.png', dpi=300)\n",
    "plt.show()\n"
   ]
  },
  {
   "cell_type": "markdown",
   "metadata": {},
   "source": [
    "### Compare the gene knockout effect distribution for genes which drive each state"
   ]
  },
  {
   "cell_type": "code",
   "execution_count": null,
   "metadata": {},
   "outputs": [],
   "source": [
    "import numpy as np\n",
    "import matplotlib.pyplot as plt\n",
    "\n",
    "data = MCF7_gene_effect_Depmap.sort_values()\n",
    "num_bins = 100\n",
    "counts, bin_edges = np.histogram(data, bins=num_bins, normed=True)\n",
    "cdf = np.cumsum(counts)/sum(counts)\n",
    "plt.figure(num=None, figsize=(2.5, 2.5), dpi=300, facecolor='w', edgecolor='k')\n",
    "\n",
    "plt.plot(bin_edges[1:], cdf, color='grey', linewidth=1)\n",
    "\n",
    "for i in range(0,len(states)):\n",
    "    state = states[i]\n",
    "    statistic = scipy.stats.ks_2samp(MCF7_gene_effect_Depmap, MCF7_gene_effect_Depmap[dic_eff[state]].sort_values())\n",
    "    if statistic[1] < 0.05:\n",
    "        print(state)\n",
    "        print(statistic)\n",
    "        data_state = MCF7_gene_effect_Depmap[dic_eff[state]].sort_values()\n",
    "        counts1, bin_edges1 = np.histogram(data_state, bins=num_bins, normed=True)\n",
    "        cdf1 = np.cumsum(counts1)/sum(counts1)\n",
    "        plt.tight_layout()\n",
    "        plt.plot(bin_edges1[1:], cdf1, color=colors[i], linewidth=1)\n",
    "\n",
    "plt.xlabel('Knockout_Effect')\n",
    "plt.ylabel('CDF')\n",
    "plt.tight_layout()\n",
    "plt.savefig(output_dir+'/KS_plot_allSet.png', dpi=300)\n",
    "plt.tight_layout()\n",
    "plt.show()"
   ]
  },
  {
   "cell_type": "markdown",
   "metadata": {},
   "source": [
    "### Get the results of \"knockout effects\" and the \"Proportion of seeds\" for each gene in each state"
   ]
  },
  {
   "cell_type": "code",
   "execution_count": null,
   "metadata": {},
   "outputs": [],
   "source": [
    "states = sorted(list(set(annotation_col_1['States'])))\n",
    "\n",
    "dic_target = {}\n",
    "for state in states:\n",
    "    dic_target[state] = FM_States.intersection(list(Result.loc[Result['Label'] == state]['Gene']), MCF7_gene_effect_Depmap.index.tolist())"
   ]
  },
  {
   "cell_type": "code",
   "execution_count": null,
   "metadata": {},
   "outputs": [],
   "source": []
  },
  {
   "cell_type": "code",
   "execution_count": null,
   "metadata": {},
   "outputs": [],
   "source": [
    "# Result_sample = pd.read_csv(output_dir + \"Predicted_sample_allSet.csv\")\n",
    "\n",
    "# dic_sh_state = {}\n",
    "# for state in list(set(Result_sample['State'])):\n",
    "#     dic_sh_state[state] = list(Result_sample.loc[Result_sample['State'] == state]['Sample'])\n",
    "    \n",
    "# meta_sh = pd.read_csv(para['input_dir']+\"/MetaData_sig_info_sh_MCF7_96h.csv\")  ## Annotation data for shRNA\n",
    "# meta_sh.index = meta_sh['sig_id']"
   ]
  },
  {
   "cell_type": "code",
   "execution_count": null,
   "metadata": {},
   "outputs": [],
   "source": []
  },
  {
   "cell_type": "markdown",
   "metadata": {},
   "source": [
    "### Potential targets for MCF7-like breast cancer that drive S5-like state"
   ]
  },
  {
   "cell_type": "code",
   "execution_count": null,
   "metadata": {},
   "outputs": [],
   "source": [
    "i = 5\n",
    "state = states[i-1]  #User defination\n",
    "print(state)\n",
    "count = 0\n",
    "Ratio_list = []\n",
    "Gene_list = []\n",
    "for GENE in dic_target[state]: #set(meta_sh.loc[dic_sh_state[state]]['pert_iname']):\n",
    "    ratio = None\n",
    "    Curr_GENE = list(meta_sh[meta_sh['pert_iname'] == GENE].index) #Curr_Gene is the samples list for one gene knockdown\n",
    "    all_seeds = []\n",
    "    for state1 in states:\n",
    "        all_seeds = all_seeds + dic_sh_state[state1]  #all_seeds is all samples predicted for S1, S2, S3, S4 and S5\n",
    "    \n",
    "    \n",
    "    used_list =FM_States.intersection(Curr_GENE,   all_seeds )  #Used_list is the samples with one gene knockdown that has been predicted to the States\n",
    "    ratio = float(len(FM_States.intersection(Curr_GENE, dic_sh_state[state]))) / len(used_list)\n",
    "    \n",
    "    if (len(FM_States.intersection(Curr_GENE, dic_sh_state[state]))) > 0:\n",
    "        Gene_list.append(GENE)\n",
    "        Ratio_list.append(ratio)\n",
    "    else:\n",
    "        print(GENE)\n",
    "        \n",
    "d = {'GENE':Gene_list,'Proportion of seeds':Ratio_list}\n",
    "pd_candidates = pd.DataFrame(d, columns=['GENE','Proportion of seeds'])\n",
    "pd_candidates.index = pd_candidates['GENE']\n",
    "\n",
    "lst1 = pd_candidates.loc[dic_target[state]]['Proportion of seeds'].values.tolist()\n",
    "lst2 = MCF7_gene_effect_Depmap.loc[dic_target[state]].values.tolist()\n",
    "candidata_target = pd.DataFrame(list(zip(lst1, lst2)), columns =['Proportion of seeds', 'Knockout_Effect'])\n",
    "candidata_target.index = dic_target[state]\n",
    "\n",
    "import matplotlib.pyplot as plt\n",
    "import pandas as pd\n",
    "plt.figure(num=None, figsize=(5, 4), dpi=300, facecolor='w', edgecolor='k')\n",
    "# a scatter plot comparing num_children and num_pets\n",
    "candidata_target_select = candidata_target.loc[candidata_target['Knockout_Effect'] < 0]\n",
    "candidata_target_select.plot(kind='scatter',x='Knockout_Effect',y='Proportion of seeds',\n",
    "                             color= colors[i-1],title=\"potential targets in \" + state, \n",
    "                             figsize=(5,4))\n",
    "plt.tight_layout()\n",
    "plt.savefig(para['output_dir'] + '/target_'+state+'.png', dpi=300)\n",
    "plt.show()\n",
    "candidata_target_select.sort_values(['Knockout_Effect']).to_csv(para['output_dir']  + '/target_'+state+'.csv')\n",
    "candidata_target.sort_values(['Knockout_Effect']).to_csv(para['output_dir']  + '/target_all_'+state+'.csv')"
   ]
  },
  {
   "cell_type": "code",
   "execution_count": null,
   "metadata": {},
   "outputs": [],
   "source": [
    "# Drug_query = []\n",
    "# for Target in list(candidata_target.index):\n",
    "    \n",
    "#     DT = list(DB.loc[DB['Target']==Target]['Drug'] + ['::'] +DB.loc[DB['Target']==Target]['Action'] + ['::']+ DB.loc[DB['Target']==Target]['Stage'].values)\n",
    "#     Drug_query.append(DT)\n",
    "    \n",
    "# candidata_target['DT'] = Drug_query\n",
    "# candidata_target.sort_values(['Knockout_Effect']).to_csv(para['output_dir']  + '/target_all_'+state+'potiential_drugs.csv')"
   ]
  },
  {
   "cell_type": "markdown",
   "metadata": {},
   "source": [
    "### Potential targets for MCF7-like breast cancer that drive S4-like state"
   ]
  },
  {
   "cell_type": "code",
   "execution_count": null,
   "metadata": {},
   "outputs": [],
   "source": [
    "i = 4\n",
    "state = states[i-1]  #User defination\n",
    "print(state)\n",
    "count = 0\n",
    "Ratio_list = []\n",
    "Gene_list = []\n",
    "for GENE in dic_target[state]: #set(meta_sh.loc[dic_sh_state[state]]['pert_iname']):\n",
    "    Curr_GENE = list(meta_sh[meta_sh['pert_iname'] == GENE].index)\n",
    "    all_seeds = []\n",
    "    for state1 in states:\n",
    "        all_seeds = all_seeds + dic_sh_state[state1]\n",
    "        \n",
    "    used_list =FM_States.intersection(Curr_GENE,   all_seeds )\n",
    "    if len(used_list) > 0:\n",
    "        ratio = float(len(FM_States.intersection(Curr_GENE, dic_sh_state[state]))) / len(used_list)\n",
    "    \n",
    "        if (len(FM_States.intersection(Curr_GENE, dic_sh_state[state]))) > 0:\n",
    "            Gene_list.append(GENE)\n",
    "            Ratio_list.append(ratio)\n",
    "        else:\n",
    "            print(GENE)\n",
    "        \n",
    "d = {'GENE':Gene_list,'Proportion of seeds':Ratio_list}\n",
    "pd_candidates = pd.DataFrame(d, columns=['GENE','Proportion of seeds'])\n",
    "pd_candidates.index = pd_candidates['GENE']\n",
    "\n",
    "lst1 = pd_candidates.loc[dic_target[state]]['Proportion of seeds'].values.tolist()\n",
    "lst2 = MCF7_gene_effect_Depmap.loc[dic_target[state]].values.tolist()\n",
    "candidata_target = pd.DataFrame(list(zip(lst1, lst2)), columns =['Proportion of seeds', 'Knockout_Effect'])\n",
    "candidata_target.index = dic_target[state]\n",
    "\n",
    "import matplotlib.pyplot as plt\n",
    "import pandas as pd\n",
    "plt.figure(num=None, figsize=(5, 4), dpi=300, facecolor='w', edgecolor='k')\n",
    "# a scatter plot comparing num_children and num_pets\n",
    "candidata_target_select = candidata_target[candidata_target['Knockout_Effect'] < 0]\n",
    "candidata_target_select.plot(kind='scatter',x='Knockout_Effect',y='Proportion of seeds',\n",
    "                             color= colors[i-1],title=\"potential targets in \" + state, \n",
    "                             figsize=(5,4))\n",
    "plt.tight_layout()\n",
    "plt.savefig(para['output_dir'] + '/target_'+state+'.png', dpi=300)\n",
    "plt.show()\n",
    "candidata_target_select.sort_values(['Knockout_Effect']).to_csv(para['output_dir']  + '/target_'+state+'.csv')\n",
    "candidata_target.sort_values(['Knockout_Effect']).to_csv(para['output_dir']  + '/target_all_'+state+'.csv')"
   ]
  },
  {
   "cell_type": "code",
   "execution_count": null,
   "metadata": {},
   "outputs": [],
   "source": [
    "# import pandas as pd\n",
    "# File_DrugBank = \"../Dataset/DrugBank_version5.16/drug_all_result.csv\"\n",
    "\n",
    "# Drug_list = []\n",
    "# Action_list = []\n",
    "# Stage_list = []\n",
    "# Target_list = []\n",
    "\n",
    "# fin = open(File_DrugBank)\n",
    "# for line in fin.readlines():\n",
    "#     words = line.strip().split(\"::\")\n",
    "#     Drug_list.append(words[0])\n",
    "#     Action_list.append(words[1])\n",
    "#     Stage_list.append(words[2])\n",
    "#     Target_list.append(words[3])\n",
    "\n",
    "# DB = pd.DataFrame({\"Drug\":Drug_list, \n",
    "#                    \"Action\": Action_list, \n",
    "#                    'Stage': Stage_list, \n",
    "#                    'Target': Target_list})\n",
    "\n",
    "# fin.close()"
   ]
  },
  {
   "cell_type": "code",
   "execution_count": null,
   "metadata": {},
   "outputs": [],
   "source": [
    "# Drug_query = []\n",
    "# for Target in list(candidata_target.index):\n",
    "    \n",
    "#     DT = list(DB.loc[DB['Target']==Target]['Drug'] + ['::'] +DB.loc[DB['Target']==Target]['Action'] + ['::']+ DB.loc[DB['Target']==Target]['Stage'].values)\n",
    "#     Drug_query.append(DT)\n",
    "    \n",
    "# candidata_target['DT'] = Drug_query\n",
    "# candidata_target.sort_values(['Knockout_Effect']).to_csv(para['output_dir']  + '/target_all_'+state+'potiential_drugs.csv')"
   ]
  },
  {
   "cell_type": "markdown",
   "metadata": {},
   "source": [
    "### End of Example 2"
   ]
  }
 ],
 "metadata": {
  "kernelspec": {
   "display_name": "Python 3 (ipykernel)",
   "language": "python",
   "name": "python3"
  },
  "language_info": {
   "codemirror_mode": {
    "name": "ipython",
    "version": 3
   },
   "file_extension": ".py",
   "mimetype": "text/x-python",
   "name": "python",
   "nbconvert_exporter": "python",
   "pygments_lexer": "ipython3",
   "version": "3.9.7"
  }
 },
 "nbformat": 4,
 "nbformat_minor": 2
}
